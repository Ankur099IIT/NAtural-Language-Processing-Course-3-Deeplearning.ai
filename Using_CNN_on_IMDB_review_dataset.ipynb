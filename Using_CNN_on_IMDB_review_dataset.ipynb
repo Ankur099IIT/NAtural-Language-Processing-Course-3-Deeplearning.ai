{
  "nbformat": 4,
  "nbformat_minor": 0,
  "metadata": {
    "colab": {
      "name": "Using CNN on IMDB_review_dataset.ipynb",
      "provenance": [],
      "authorship_tag": "ABX9TyMKabzoNumJDs+ctM9d0L8/",
      "include_colab_link": true
    },
    "kernelspec": {
      "name": "python3",
      "display_name": "Python 3"
    },
    "language_info": {
      "name": "python"
    },
    "accelerator": "GPU"
  },
  "cells": [
    {
      "cell_type": "markdown",
      "metadata": {
        "id": "view-in-github",
        "colab_type": "text"
      },
      "source": [
        "<a href=\"https://colab.research.google.com/github/Ankur099IIT/Natural-Language-Processing-Course-3-Deeplearning.ai/blob/main/Using_CNN_on_IMDB_review_dataset.ipynb\" target=\"_parent\"><img src=\"https://colab.research.google.com/assets/colab-badge.svg\" alt=\"Open In Colab\"/></a>"
      ]
    },
    {
      "cell_type": "code",
      "execution_count": 4,
      "metadata": {
        "colab": {
          "base_uri": "https://localhost:8080/"
        },
        "id": "PHKiJkenCqZj",
        "outputId": "8cb482bb-a084-4b39-f049-c8f5d46710fc"
      },
      "outputs": [
        {
          "output_type": "stream",
          "name": "stderr",
          "text": [
            "WARNING:absl:TFDS datasets with text encoding are deprecated and will be removed in a future version. Instead, you should use the plain text version and tokenize the text using `tensorflow_text` (See: https://www.tensorflow.org/tutorials/tensorflow_text/intro#tfdata_example)\n"
          ]
        }
      ],
      "source": [
        "import tensorflow_datasets as tfds\n",
        "\n",
        "dataset, info = tfds.load('imdb_reviews/subwords8k', with_info = True, as_supervised = True)\n",
        "\n",
        "tokenizer = info.features['text'].encoder"
      ]
    },
    {
      "cell_type": "code",
      "source": [
        "BUFFER_SIZE = 10000\n",
        "BATCH_SIZE = 256\n",
        "\n",
        "train_data, test_data = dataset['train'], dataset['test']\n",
        "\n",
        "train_dataset = train_data.shuffle(BUFFER_SIZE)\n",
        "\n",
        "train_dataset = train_dataset.padded_batch(BATCH_SIZE)\n",
        "test_dataset = test_data.padded_batch(BATCH_SIZE)"
      ],
      "metadata": {
        "id": "tGe8ESSBDXSp"
      },
      "execution_count": 5,
      "outputs": []
    },
    {
      "cell_type": "code",
      "source": [
        "import tensorflow as tf\n",
        "embedding_dim = 64\n",
        "filters = 128\n",
        "kernel_size = 5\n",
        "dense_dim = 64\n",
        "\n",
        "model = tf.keras.Sequential([\n",
        "        tf.keras.layers.Embedding(tokenizer.vocab_size, embedding_dim),\n",
        "        tf.keras.layers.Conv1D(filters = filters, kernel_size = kernel_size, activation = 'relu'),\n",
        "        tf.keras.layers.GlobalMaxPooling1D(),\n",
        "        tf.keras.layers.Dense(dense_dim, activation = 'relu'),\n",
        "        tf.keras.layers.Dense(1, activation = 'sigmoid')                    \n",
        "])"
      ],
      "metadata": {
        "id": "DRlYaHTwE8ww"
      },
      "execution_count": 6,
      "outputs": []
    },
    {
      "cell_type": "code",
      "source": [
        "model.summary()"
      ],
      "metadata": {
        "colab": {
          "base_uri": "https://localhost:8080/"
        },
        "id": "o3sXSJ5xGgcm",
        "outputId": "59f9723b-23b6-4c62-8445-41f4acf821c1"
      },
      "execution_count": 7,
      "outputs": [
        {
          "output_type": "stream",
          "name": "stdout",
          "text": [
            "Model: \"sequential\"\n",
            "_________________________________________________________________\n",
            " Layer (type)                Output Shape              Param #   \n",
            "=================================================================\n",
            " embedding (Embedding)       (None, None, 64)          523840    \n",
            "                                                                 \n",
            " conv1d (Conv1D)             (None, None, 128)         41088     \n",
            "                                                                 \n",
            " global_max_pooling1d (Globa  (None, 128)              0         \n",
            " lMaxPooling1D)                                                  \n",
            "                                                                 \n",
            " dense (Dense)               (None, 64)                8256      \n",
            "                                                                 \n",
            " dense_1 (Dense)             (None, 1)                 65        \n",
            "                                                                 \n",
            "=================================================================\n",
            "Total params: 573,249\n",
            "Trainable params: 573,249\n",
            "Non-trainable params: 0\n",
            "_________________________________________________________________\n"
          ]
        }
      ]
    },
    {
      "cell_type": "code",
      "source": [
        "model.compile(loss = 'binary_crossentropy',\n",
        "              optimizer = 'adam',\n",
        "              metrics = ['accuracy'])"
      ],
      "metadata": {
        "id": "a2eKHmdFGIt-"
      },
      "execution_count": 8,
      "outputs": []
    },
    {
      "cell_type": "code",
      "source": [
        "history = model.fit(train_dataset, epochs = 10, validation_data = test_dataset)"
      ],
      "metadata": {
        "colab": {
          "base_uri": "https://localhost:8080/"
        },
        "id": "YvnhSlt0GVda",
        "outputId": "b8a8bc25-2ae5-4534-f97e-e7b2c3f99e69"
      },
      "execution_count": 9,
      "outputs": [
        {
          "output_type": "stream",
          "name": "stdout",
          "text": [
            "Epoch 1/10\n",
            "98/98 [==============================] - 69s 571ms/step - loss: 0.6123 - accuracy: 0.6624 - val_loss: 0.4089 - val_accuracy: 0.8210\n",
            "Epoch 2/10\n",
            "98/98 [==============================] - 27s 269ms/step - loss: 0.2928 - accuracy: 0.8772 - val_loss: 0.2698 - val_accuracy: 0.8878\n",
            "Epoch 3/10\n",
            "98/98 [==============================] - 26s 255ms/step - loss: 0.1518 - accuracy: 0.9473 - val_loss: 0.2624 - val_accuracy: 0.8934\n",
            "Epoch 4/10\n",
            "98/98 [==============================] - 23s 232ms/step - loss: 0.0680 - accuracy: 0.9829 - val_loss: 0.2848 - val_accuracy: 0.8943\n",
            "Epoch 5/10\n",
            "98/98 [==============================] - 22s 221ms/step - loss: 0.0228 - accuracy: 0.9977 - val_loss: 0.3167 - val_accuracy: 0.8951\n",
            "Epoch 6/10\n",
            "98/98 [==============================] - 21s 208ms/step - loss: 0.0078 - accuracy: 0.9997 - val_loss: 0.3397 - val_accuracy: 0.8942\n",
            "Epoch 7/10\n",
            "98/98 [==============================] - 22s 216ms/step - loss: 0.0036 - accuracy: 0.9999 - val_loss: 0.3601 - val_accuracy: 0.8944\n",
            "Epoch 8/10\n",
            "98/98 [==============================] - 22s 218ms/step - loss: 0.0021 - accuracy: 1.0000 - val_loss: 0.3767 - val_accuracy: 0.8942\n",
            "Epoch 9/10\n",
            "98/98 [==============================] - 21s 211ms/step - loss: 0.0014 - accuracy: 1.0000 - val_loss: 0.3912 - val_accuracy: 0.8945\n",
            "Epoch 10/10\n",
            "98/98 [==============================] - 21s 203ms/step - loss: 9.8959e-04 - accuracy: 1.0000 - val_loss: 0.4038 - val_accuracy: 0.8944\n"
          ]
        }
      ]
    },
    {
      "cell_type": "code",
      "source": [
        "import matplotlib.pyplot as plt\n",
        "\n",
        "# Plot utility\n",
        "def plot_graphs(history, string):\n",
        "  plt.plot(history.history[string])\n",
        "  plt.plot(history.history['val_'+string])\n",
        "  plt.xlabel(\"Epochs\")\n",
        "  plt.ylabel(string)\n",
        "  plt.legend([string, 'val_'+string])\n",
        "  plt.show()\n",
        "\n",
        "# Plot the accuracy and results \n",
        "plot_graphs(history, \"accuracy\")\n",
        "plot_graphs(history, \"loss\")"
      ],
      "metadata": {
        "colab": {
          "base_uri": "https://localhost:8080/",
          "height": 562
        },
        "id": "CZ_e04C1GmEh",
        "outputId": "51d6e3de-3126-429f-a573-c55937e8d915"
      },
      "execution_count": 10,
      "outputs": [
        {
          "output_type": "display_data",
          "data": {
            "text/plain": [
              "<Figure size 432x288 with 1 Axes>"
            ],
            "image/png": "[encoded data removed]"
          },
          "metadata": {
            "needs_background": "light"
          }
        },
        {
          "output_type": "display_data",
          "data": {
            "text/plain": [
              "<Figure size 432x288 with 1 Axes>"
            ],
            "image/png": "[encoded data removed]"
          },
          "metadata": {
            "needs_background": "light"
          }
        }
      ]
    },
    {
      "cell_type": "code",
      "source": [
        "# Conclusion - Accuracy improved and overfitting reduced"
      ],
      "metadata": {
        "id": "BgsoNisDLwcP"
      },
      "execution_count": 11,
      "outputs": []
    }
  ]
}