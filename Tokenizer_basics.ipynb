{
  "nbformat": 4,
  "nbformat_minor": 0,
  "metadata": {
    "colab": {
      "name": "Tokenizer basics.ipynb",
      "provenance": [],
      "authorship_tag": "ABX9TyMtbacGwH9ek7ogIhhhh7ow",
      "include_colab_link": true
    },
    "kernelspec": {
      "name": "python3",
      "display_name": "Python 3"
    },
    "language_info": {
      "name": "python"
    },
    "accelerator": "GPU"
  },
  "cells": [
    {
      "cell_type": "markdown",
      "metadata": {
        "id": "view-in-github",
        "colab_type": "text"
      },
      "source": [
        "<a href=\"https://colab.research.google.com/github/Ankur099IIT/Natural-Language-Processing-Course-3-Deeplearning.ai/blob/main/Tokenizer_basics.ipynb\" target=\"_parent\"><img src=\"https://colab.research.google.com/assets/colab-badge.svg\" alt=\"Open In Colab\"/></a>"
      ]
    },
    {
      "cell_type": "code",
      "execution_count": 2,
      "metadata": {
        "colab": {
          "base_uri": "https://localhost:8080/"
        },
        "id": "31h3svx8d_lS",
        "outputId": "e1d964b9-8202-4b0b-f1b2-702f76f14b33"
      },
      "outputs": [
        {
          "output_type": "stream",
          "name": "stdout",
          "text": [
            "{'my': 1, 'name': 2, 'is': 3, 'ankur': 4, 'tiwari': 5, 'i': 6, 'am': 7, 'very': 8, 'passion': 9, 'about': 10, 'the': 11, 'field': 12, 'machine': 13, 'learning': 14}\n"
          ]
        }
      ],
      "source": [
        "# for num_words = 100\n",
        "\n",
        "from tensorflow.keras.preprocessing.text import Tokenizer\n",
        "\n",
        "sentences  = ['My name is Ankur Tiwari',\n",
        "             'I am very passion about the field- Machine Learning']\n",
        "tokenizer = Tokenizer(num_words = 100)\n",
        "\n",
        "tokenizer.fit_on_texts(sentences)\n",
        "\n",
        "word_index = tokenizer.word_index\n",
        "print(word_index)\n"
      ]
    },
    {
      "cell_type": "code",
      "source": [
        "# for num_words = 1\n",
        "\n",
        "from tensorflow .keras.preprocessing.text import Tokenizer\n",
        "\n",
        "sentences  = ['My name is Ankur Tiwari',\n",
        "             'I am very passion about the field- Machine Learning']\n",
        "\n",
        "tokenizer = Tokenizer(num_words = 1)\n",
        "\n",
        "tokenizer.fit_on_texts(sentences)\n",
        "\n",
        "word_index = tokenizer.word_index\n",
        "print(word_index)"
      ],
      "metadata": {
        "colab": {
          "base_uri": "https://localhost:8080/"
        },
        "id": "sg98bu2-i-Gz",
        "outputId": "af591b7b-0a74-4ae2-b29d-4664acbc4ec7"
      },
      "execution_count": 5,
      "outputs": [
        {
          "output_type": "stream",
          "name": "stdout",
          "text": [
            "{'my': 1, 'name': 2, 'is': 3, 'ankur': 4, 'tiwari': 5, 'i': 6, 'am': 7, 'very': 8, 'passion': 9, 'about': 10, 'the': 11, 'field': 12, 'machine': 13, 'learning': 14}\n"
          ]
        }
      ]
    },
    {
      "cell_type": "code",
      "source": [
        ""
      ],
      "metadata": {
        "id": "_hEKVz2UkQUG"
      },
      "execution_count": null,
      "outputs": []
    }
  ]
}