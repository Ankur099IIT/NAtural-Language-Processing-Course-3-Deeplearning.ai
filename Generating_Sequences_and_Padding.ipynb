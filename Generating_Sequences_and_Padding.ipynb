{
  "nbformat": 4,
  "nbformat_minor": 0,
  "metadata": {
    "colab": {
      "name": "Generating Sequences and Padding.ipynb",
      "provenance": [],
      "authorship_tag": "ABX9TyMUyh/rnk1g/c8NnmkuZmBc",
      "include_colab_link": true
    },
    "kernelspec": {
      "name": "python3",
      "display_name": "Python 3"
    },
    "language_info": {
      "name": "python"
    },
    "accelerator": "GPU"
  },
  "cells": [
    {
      "cell_type": "markdown",
      "metadata": {
        "id": "view-in-github",
        "colab_type": "text"
      },
      "source": [
        "<a href=\"https://colab.research.google.com/github/Ankur099IIT/Natural-Language-Processing-Course-3-Deeplearning.ai/blob/main/Generating_Sequences_and_Padding.ipynb\" target=\"_parent\"><img src=\"https://colab.research.google.com/assets/colab-badge.svg\" alt=\"Open In Colab\"/></a>"
      ]
    },
    {
      "cell_type": "code",
      "execution_count": 9,
      "metadata": {
        "colab": {
          "base_uri": "https://localhost:8080/"
        },
        "id": "2SxOzihPkqHM",
        "outputId": "63320ccd-3b31-4833-ac1c-8a0685f1aa74"
      },
      "outputs": [
        {
          "output_type": "stream",
          "name": "stdout",
          "text": [
            "{'<OOV>': 1, 'my': 2, 'i': 3, 'name': 4, 'is': 5, 'ankur': 6, 'tiwari': 7, 'love': 8, 'to': 9, 'learn': 10, 'new': 11, 'things': 12, 'everyday': 13, 'watching': 14, 'space': 15, 'documentaries': 16, 'ia': 17, 'favourite': 18, 'pass': 19, 'time': 20, 'am': 21, 'enjoying': 22, 'learning': 23, 'tensorflow': 24, 'pandas': 25, 'numpy': 26, 'matplotlib': 27}\n",
            "[[2, 4, 5, 6, 7], [3, 8, 9, 10, 11, 12, 13], [14, 15, 16, 17, 2, 18, 19, 20], [3, 21, 22, 23, 24, 25, 26, 27]]\n"
          ]
        }
      ],
      "source": [
        "from tensorflow.keras.preprocessing.text import Tokenizer\n",
        "from tensorflow.keras.preprocessing.sequence import pad_sequences\n",
        "\n",
        "sentences = ['My name is Ankur Tiwari',\n",
        "             'I love to learn new things everyday',\n",
        "             'Watching space documentaries ia my favourite pass time',\n",
        "             'I am enjoying learning tensorflow, pandas, numpy, matplotlib.']\n",
        "\n",
        "tokenizer = Tokenizer(num_words = 100, oov_token = '<OOV>')\n",
        "\n",
        "tokenizer.fit_on_texts(sentences)\n",
        "\n",
        "word_index = tokenizer.word_index\n",
        "\n",
        "sequence = tokenizer.texts_to_sequences(sentences)\n",
        "\n",
        "print(word_index)\n",
        "print(sequence)\n",
        "\n",
        "\n",
        "\n"
      ]
    },
    {
      "cell_type": "code",
      "source": [
        "# Padding\n",
        "\n",
        "padded = pad_sequences(sequence, padding = 'post', maxlen = 10)\n",
        "\n",
        "print('\\nPadded Sequence:')\n",
        "print(padded)"
      ],
      "metadata": {
        "colab": {
          "base_uri": "https://localhost:8080/"
        },
        "id": "9rkyvavnoUMV",
        "outputId": "fc2cd64c-1a77-44ea-b493-3e788d6a27bb"
      },
      "execution_count": 10,
      "outputs": [
        {
          "output_type": "stream",
          "name": "stdout",
          "text": [
            "\n",
            "Padded Sequence:\n",
            "[[ 2  4  5  6  7  0  0  0  0  0]\n",
            " [ 3  8  9 10 11 12 13  0  0  0]\n",
            " [14 15 16 17  2 18 19 20  0  0]\n",
            " [ 3 21 22 23 24 25 26 27  0  0]]\n"
          ]
        }
      ]
    },
    {
      "cell_type": "code",
      "source": [
        "# Out-of-vocabulary token\n",
        "\n",
        "test_data = ['Practice makes a man perfect',\n",
        "             'if in doubt run the code',\n",
        "             'ML practitioner moto- Experiment, Experiment, Experiment',\n",
        "             'Ankur loves dogs']\n",
        "\n",
        "test_seq = tokenizer.texts_to_sequences(test_data)\n",
        "\n",
        "print('\\n Word index',word_index)\n",
        "print('\\nTest Sequence', test_seq)"
      ],
      "metadata": {
        "colab": {
          "base_uri": "https://localhost:8080/"
        },
        "id": "HwNpzGhToz4D",
        "outputId": "ec920b96-8fbc-4d0f-dc60-44a6cf6bd017"
      },
      "execution_count": 14,
      "outputs": [
        {
          "output_type": "stream",
          "name": "stdout",
          "text": [
            "\n",
            " Word index {'<OOV>': 1, 'my': 2, 'i': 3, 'name': 4, 'is': 5, 'ankur': 6, 'tiwari': 7, 'love': 8, 'to': 9, 'learn': 10, 'new': 11, 'things': 12, 'everyday': 13, 'watching': 14, 'space': 15, 'documentaries': 16, 'ia': 17, 'favourite': 18, 'pass': 19, 'time': 20, 'am': 21, 'enjoying': 22, 'learning': 23, 'tensorflow': 24, 'pandas': 25, 'numpy': 26, 'matplotlib': 27}\n",
            "\n",
            "Test Sequence [[1, 1, 1, 1, 1], [1, 1, 1, 1, 1, 1], [1, 1, 1, 1, 1, 1], [6, 1, 1]]\n"
          ]
        }
      ]
    },
    {
      "cell_type": "code",
      "source": [
        "padded = pad_sequences(test_seq, padding = 'post', maxlen = 10)\n",
        "\n",
        "print('\\n Padded Sequences:')\n",
        "print(padded) # here token 1 represent the 'OOV'(words that are not found in sentences) and only keyword \"Ankur\" with index 6 is common"
      ],
      "metadata": {
        "colab": {
          "base_uri": "https://localhost:8080/"
        },
        "id": "iSwyG6HTpsoa",
        "outputId": "0c41457b-ac1e-4a2f-b226-31ba593ea144"
      },
      "execution_count": 19,
      "outputs": [
        {
          "output_type": "stream",
          "name": "stdout",
          "text": [
            "\n",
            " Padded Sequences:\n",
            "[[1 1 1 1 1 0 0 0 0 0]\n",
            " [1 1 1 1 1 1 0 0 0 0]\n",
            " [1 1 1 1 1 1 0 0 0 0]\n",
            " [6 1 1 0 0 0 0 0 0 0]]\n"
          ]
        }
      ]
    },
    {
      "cell_type": "code",
      "source": [
        ""
      ],
      "metadata": {
        "id": "G8jgAP6GrwPX"
      },
      "execution_count": null,
      "outputs": []
    }
  ]
}