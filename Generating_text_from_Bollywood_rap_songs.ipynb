{
  "nbformat": 4,
  "nbformat_minor": 0,
  "metadata": {
    "colab": {
      "name": "Generating text from Bollywood rap songs.ipynb",
      "provenance": [],
      "authorship_tag": "ABX9TyMBNShnBZiWONXcOyXHJdl1",
      "include_colab_link": true
    },
    "kernelspec": {
      "name": "python3",
      "display_name": "Python 3"
    },
    "language_info": {
      "name": "python"
    },
    "accelerator": "GPU"
  },
  "cells": [
    {
      "cell_type": "markdown",
      "metadata": {
        "id": "view-in-github",
        "colab_type": "text"
      },
      "source": [
        "<a href=\"https://colab.research.google.com/github/Ankur099IIT/Natural-Language-Processing-Course-3-Deeplearning.ai/blob/main/Generating_text_from_Bollywood_rap_songs.ipynb\" target=\"_parent\"><img src=\"https://colab.research.google.com/assets/colab-badge.svg\" alt=\"Open In Colab\"/></a>"
      ]
    },
    {
      "cell_type": "code",
      "execution_count": 1,
      "metadata": {
        "colab": {
          "base_uri": "https://localhost:8080/"
        },
        "id": "-Qe4QBYMwmvD",
        "outputId": "557353b2-bd17-4856-bbb8-6f206ccbfeec"
      },
      "outputs": [
        {
          "output_type": "stream",
          "name": "stdout",
          "text": [
            "--2022-05-10 09:49:45--  https://storage.googleapis.com/tensorflow-1-public/course3/irish-lyrics-eof.txt\n",
            "Resolving storage.googleapis.com (storage.googleapis.com)... 74.125.68.128, 74.125.24.128, 142.250.4.128, ...\n",
            "Connecting to storage.googleapis.com (storage.googleapis.com)|74.125.68.128|:443... connected.\n",
            "HTTP request sent, awaiting response... 200 OK\n",
            "Length: 68970 (67K) [text/plain]\n",
            "Saving to: ‘irish-lyrics-eof.txt’\n",
            "\n",
            "irish-lyrics-eof.tx 100%[===================>]  67.35K  --.-KB/s    in 0.001s  \n",
            "\n",
            "2022-05-10 09:49:46 (98.3 MB/s) - ‘irish-lyrics-eof.txt’ saved [68970/68970]\n",
            "\n"
          ]
        }
      ],
      "source": [
        "!wget  https://storage.googleapis.com/tensorflow-1-public/course3/irish-lyrics-eof.txt"
      ]
    },
    {
      "cell_type": "code",
      "source": [
        "# load the data\n",
        "\n",
        "data = open('/content/Dil Toota Lekar Muskurate.txt').read()\n",
        "data"
      ],
      "metadata": {
        "colab": {
          "base_uri": "https://localhost:8080/",
          "height": 199
        },
        "id": "7i3scw8_ws_5",
        "outputId": "29cd1901-5b23-4c90-f692-c343a5ebe4f3"
      },
      "execution_count": 54,
      "outputs": [
        {
          "output_type": "execute_result",
          "data": {
            "text/plain": [
              "\"Ab apne man ko kar shant or mere bol ko sun\\nEk ek bar he gyan, samaj or amal kar vo gun\\nBeat ko chalne de, bass ko badhne de\\nKho ja is geet pe, sama ye apne ander dhun\\nDar ko hata, jigar phad, dahar apne seene se\\nZindagi koi khel nahi, samaj duniya dimag se\\nLog ayenge bahut rokne wale, jalne wale\\nPer mat rukh, baazigar vahi jo ubhare in logo se\\nKar sachi mehnat, dikhava nahi, kar akal ka istemal\\nAaj ya kal, ager tu he real, kamyab hogi har chal\\nBas sun apne man ki, kar vahi jo he dimag me\\nKarna he toofani? kar, agey badh, ho kesa bhi haal\\nBas! baat vahi, mat le bhag jahan he race me bheed\\nKar kuch apna taki is race me lage logo ki bheed\\nEk zindagi, ek mukaam, dalde apni jaan isme\\nUthayega khatra, hoga ehsaas, tabhi banega sacha veer\\nMe aa gaya hu pure josh me\\nKarunga vahi jo he apni soch me\\nDin raat ek karke karunga mehnat\\nDar ko dafnake launga himmat jaan me\\nMujhe pata he logo ko pasand nahi\\nKi agey jaye unse bina puche koi bhi\\nLog nachana chahthe he apne ishare pe\\nAb me rukne wala nahi, chahe ho kuch bhi\\nAb mene rooh ko samjhake jaga diya he\\nVahi apne dil ko dimag se jor diya he\\nAb chahe kuch bhi ho agey ka rasta\\nBas mene apne hath pao ko khol diya he\\nAb hakikat me lana he apne sapno ko\\nUmer ho gayi he, ab to mujhe karne do\\nMene bhi dekh li he ye khas duniya\\nAb chahe agey kuch bhi ho, farne do\\nSubah me uthu panch baje\\nUthau kalam, likhu rap ache\\nEk ek line ko likhu naap tol ke\\nTaki log keh sake, tere rap sache\\nPhir niklu bahar, kaam ke liye\\nPura din karu mehnat, apne liye\\nKaam ke sath dyniya ko samjhu\\nBanau usko hissa apne rap ke liye\\nRaat bhar bhi me na karu aram\\nKalam ke sahare pure karne he arman\\nSoch samajke likhu dil se rap\\nApne sabdho ke sahare lau ek farman\\nJamana ko roj me samaj raha hu\\nDukh dard ko dur karna, sikh raha hu\\nTaki pura dhyan laga du apne rap pe\\nCheezo ko sapne se hakikat me la raha hu\\nMe aya hu chote sehere se\\nNa koi dar, nahi koi fikar\\nJo karna he, karunga khud se\\nBolke nahi, sab kuch dikhakar\\nBahut kat li zindagi galliyon me\\nDar me, dusro ke ishare me\\nAb mitana he andhera zindagi se\\nChamkani he zindagi kamyabi se\\nBahut sun li baatein logo ki roz\\nAb nahi uthaunga kisi ka boj\\nAb Jo karunga, usme hogi meri soch\\nAb me jaag gya hu, karni he safalta ki khoj\\nAb rehna he mujhe khule aasman ki niche\\nChuhna he safalta ke aasmano ko\\nNa chaiye sath ya Jana bheed ke piche\\nKhud ki mehnat se khara karunga pero ko\\nMujhe dar iss baat ka hai bas \\nKe kahin na ye raat nikal jaaye \\nMere itne bhi paas tu aa mat \\nKahin mere haathon se na baat nikal jaaye\\nBolunga sach main jo de tu ijazat \\nSabar bhi ab karne laga bagawat \\nZulfein hain zaalim aur aankhen hain aafat \\nLagta hai hone wali hai qayamat\\nMat tadpa aise tu \\nNa kar na-insaafi \\nJo ghalti karne wala hoon main \\nUske liye pehle se hi maangta hoon maafi\\nSadkon pe chale jab \\nLadkon ke dilon mein tu \\nAag laga de baby, Fire! \\nNakli se nakhre tu kare \\nJab dekhe humein \\nHanji fir ek baar dekho aaya shanivaar \\nParty karne ke liye baby ji ho gayi taiyyar \\nSarojni ke kapde pehen ke jaati madam disco \\nVIP me complimentary shots bhi de do isko \\nIsko gaadi chahiye lambi \\nUsme music chahiye LOUD \\nYe jaati mehenge club me \\nJahaan hota dhang ka CROWD \\nLudhiyane se aai ladki university padhti hai \\nKehti to hai student hai, But I DOUBT! \\nMundeya de palle vi tu chadeya ni kakh \\nJado Sunday Monday kare tera jhutte khanda lakk \\nAati Honda mein, Audi mein jati tu khisak \\nChalegi kya \\nGlass pada hai khaali, bharegi kya \\nSaath aaye launde se daregi kya \\nAndar ki feeling se ladegi kya\\nHadd ho gayi \\nHadd se aage bhi badhegi kya \\nNau acre mein farm ,farm pe ghode \\nGhode pe chadhegi kya\\n1 2 3, gaadi ke bonnet se nikle pari \\nLaunde aage kahin tikte nahi \\nBaatein hain kaidi meri, likh le kahin \\nChal niklein kahin aan\\nImage kharaab, kaam galat hai \\nNews mein naam aata har week \\nPhir bhi jahaan se guzroon \\nHar bandi ke mooh se nikle cheekh\\nHaath pakad par dil na laga \\nJo kehti hai karke dikha \\nSun'ne mein aaya hai tu marti hai humpe \\nMarr ke dikha\\nRehne de, mooh bandh rakh \\nAankhein jo kehti hain kehne de \\nBahut ruki hai aaj tu \\nPaani banke khud ko behne de\\nCement se nikla gulaab\\nAitihasik kitaab\\nHar hal ka jawaab\\nSach hue mere khwaab\\nWafadaar\\nKhabardaar\\nHoshiyaar\\nGully Gang sabse hard parivar\\nKoi masle mein atke phir sab zimmedaar\\nKha asli mein fatke phir sab tadipaar\\nGinn chun ke hain dost baki saanpo ko kataar\\nJab tak photo pe na haar\\nTab tak grind kare\\nShine kare\\nJo karna kar tere mind par hai\\nChote zara line par re\\nZabardasti ka josh\\nChod ye nakli tu beef\\nTu asli mein ghosht\\nTu khana mera dost\\nYahan nakli hai famous\\nKya zamana mera dost\\nChal maachis yeh hai poora poora\\nJwala mera dost\\nTu paltu mere gaano ne\\nPala mera dost\\nLawa lawa\\nSpit game proper\\nBoys from the naka\\nFive Nine Eastside hum Andheri ke\\nMere fans Royal Opera se Gaiety pe\\nJulius Bagga aur JD hai\\nMere college wale dost\\nMC Sher, Moen, Murad\\nSab solid mere dost\\nRation card wale shooter\\nMatlab foreign wale dost\\nMatlab ek call pe seedha seedha aanewale dost\\nTeen Ali Baba\\nAur chaalees mere dost\\nKoiley mein heera ka basera\\nTedi wali soch\\nSuraj chand apne favour mein gedhiyan lagare\\nAsal zindagi mein tough\\nSirf video mein naa re Great\\nKhali hai rappers sirf video mein ye hard hai\\nShot seedha sarpe isko desi toh pila re\\nChakne mein chicken nahi yahan kaerian khilathe\\nPepsi pe bade hue\\nJo thailiyon mein aathe\\nSaathvi se saath dost\\nAb bhi mere saath hai\\nAbhi bhi karte punya\\nAbhi bhi karte paap hai\\nKuch nahi tha\\nAb chaar din baad\\nSab kuch dekha\\nMai har jagah book\\nBhagwat Gita\\nSuroor wala maal\\nNahi peeta seesha\\nMat bhool na\\nChote tune kisse seeekha\\nDIVINE Five Nine\\nBhai bhai\\nHi bye\\nOpposite se ghost karnar\\nMe nahi\\nMH tikkat ambat flow\\nSavra changla bro\\nBangda fry\\nTikkat ambat ho\\nCoast wale log\\nBoss wale code\\nBachkaane chhod\\nRaastein mein aaye\\nFatka ke chhod\\nRap ka Kishore\\nBhai ka na tod\\nKiska na load\\nOne, Two ka Four\\nNahi nahi\\nOne, two ka Crore\\nInfluencer model wo kabhi na mere saath\\nBottle seedha sar pe\\nSafeena mere saath\\nIss jungle ka tu Mowgli\\nAkhila meri khaas\\nHaan kamar tod rap\\nTu Shakira jaise naach\\nYeh hai kalam tod rap\\nPalanng tod rap\\nTeri lambi gaadi ke andar\\nTu kabar khod rap\\nAb pariwaar pehle baaki check karle facts\\nAsal gaane spit karke\\nLaaya underground mei paisa\\nPaisa sabko mil raha bataya maine kaisa\\nIndustry ko laya maine underground mein\\nIndustry bana ab ye underground hai\\nAb bohot zyaada farak tere mere sound mein\\nTu hai sound chor\\nMera apna khud ka sound hai\\nAasman mein chaati\\nMeri Maaji proud hai\\nतू acting अच्छा करता या तो सही में मंद है\\nजो rap में तेरे बोलता क्या वो सही में करता?\\nतू अच्छे घर का अच्छे घर में रह\\nअच्छे घर से रहना मतलब सही ना बे\\nमैं तेरे जैसा नहीं ना बे\\nगाने drop मेरे fans सही में फई ला दे\\nViews खरीदना अपना स्टाइल ना बे! हैरान रह!\\nक्योंकि picture अभी बाकी है\\nजलने वाले रुक जा बेटा सबको देना पार्टी है\\nलड़कियों के साथ अभी पीछे पड़ा गांधी है\\nसूरज मेरा दोस्त अब तो साथ दे रहा चांद भी है\\nजलने वाले मुझे देख कर बोले...\\nभाई तुझे मान लिया\\nमान लिया मान लिया!\\nमन को लगती शांति है जब में जब गांधी है! \\nभाई तुझे मान लिया\\nमन को लगती शांति है जब में जब गांधी है \\nमान लिया मान लिया\\nमन को लगती शांति है जब में जब गांधी है\\nमान लिया मान लिया\\nमन को लगती शांति है जब में जब गांधी है\\nहमको छोटे लाना आंधी है!\\nसाथ थे वो साथ नहीं है अब दिन मेरे रात नहीं है\\nGame मेरे हाथ में ही है मंज़िल मेरे सामने ही है\\nबचकाने तेरे लिए time मेरे पास नहीं है\\nबचकाने तेरे लिए rhyme मेरे पास नहीं है\\nनंगा ही तो आया किसी की औकात नहीं है\\nपैसा बोलता है, मेहनत का या झोल का है\\nसमझ बेटा तेरा role क्या है\\nजो शीशा तेरे सामने वो झूठ नहीं बोलता है\\nपैसे वाला वोट पर वो भी पोल खोलता है\\nकाग़ज़ के नाम पे शैतान तेरे पास में\\nशराब के नाम पे शैतान तेरे glass में\\nउसका खून भी बहता फिर क्यों इतने फासले\\nशीलावती मेरे साथ में!\\nमाँ पूछती क्यों इतना खांसते?\\nक्योंकि माँ तोड़ा हँसना ज़रूरी है\\nबड़ा भाई ने सही बोला था पैसा सबका खूनी है।\\nभाई तुझे मान लिया\\nमान लिया मान लिया!\\nमन को लगती शांति है जब में जब गांधी है! \\nभाई तुझे मान लिया\\nमन को लगती शांति है जब में जब गांधी है \\nमान लिया मान लिया\\nमन को लगती शांति है जब में जब गांधी है\\nमान लिया मान लिया\\nमन को लगती शांति है जब में जब गांधी है\\nहमको छोटे लाना आंधी है!\\nएक खोखा दो खोखा तीन खोखा\\nChal Bombay, meri maa se milata hoon\\nChal ghar pe tujhe haath se khilata hoon\\nJo bhi bola wo haq se nibhata hoon\\nTujhe chahta hoon\\nTujhe chahta hoon\\nChal Bombay, meri maa se milata hoon\\nChal ghar pe tujhe haath se khilata hoon\\nJo bhi bola wo haq se nibhata hoon\\nTujhe chahta hoon\\nTujhe chahta hoon\\nJab mere saath thi woh\\nMeri khass thi woh\\nMeri shooter, mera nasha, meri ghaas thi woh\\nManali-Manali\\nKawali-Kawali\\nWoh dikhti Madhuri\\nJab pehne woh saree\\nMere munh mein hai gaali\\nWoh mithi sa paani\\nWoh gehra samundar\\nMain behta hua paani\\nMain shayar mawali\\nTera bichla woh jaali\\nYe asal Nurani... ahaa!\\nAa zara ghoom kar dekh\\nGaur se dekh\\nTuhi thi koi aur nai dekh\\nHar raasta hai ab na main road se dekh\\nPachtayegi-Pachtayegi\\nTu chhod kar dekh\\nYe gaana nahi gaana\\nYe aashiq deewana\\nKyun jale zamaana\\nToh jalne de\\nShayad samjhegi woh mere marne pe\\nShayad samjhegi woh mere marne pe\\nChal Bombay, meri maa se milata hoon\\nChal ghar pe tujhe haath se khilata hoon\\nJo bhi bola wo haq se nibhata hoon\\nTujhe chahta hoon\\nChal Bombay, meri maa se milata hoon\\nChal ghar pe tujhe haath se khilata hoon\\nJo bhi bola wo haq se nibhata hoon\\nTujhe chahta hoon\\nSunn pagli haan maana meri galti\\nTeri saheli aur meri nahi jamti\\nHaan ye darkhwast hai\\nDe raha nahi dhamki\\nJabse tu mili kasam meri kismat chamki\\nHaan maana main sanki\\nPyaar hai sirf tujhse\\nAur dikhti nai agli\\nAur koi bhi nahi mangti\\nHaan de doon har maala\\nTu banja Vyjanthi\\nAur koi bhi aa jaave\\nHila dunga dharti\\nBol tere papa, mama ya chacha ko\\nZai tuze mog\\nDoosre kithe naka go\\nMaka naka go\\nMaka naka go\\nZai tuze mog ani\\nDoosre kithe naka go\\nGoan ladka main, desh bhar mein charcha hai\\nSafal ho jaaye jo ek baar tu church aaye\\nAa public marti hai\\nYe tujhpe marta hai\\nAa sach bolun toh\\nKhaali tujhse darta hai\\nChal Bombay, meri maa se milata hoon\\nChal ghar pe tujhe haath se khilata hoon\\nJo bhi bola wo haq se nibhata hoon\\nTujhe chahta hoon\\nTujhe chahta hoon\\nChal Bombay, meri maa se milata hoon\\nChal ghar pe tujhe haath se khilata hoon\\nJo bhi bola wo haq se nibhata hoon\\n\\n\\n\\n\\n\\n\\n\\n\\n\""
            ],
            "application/vnd.google.colaboratory.intrinsic+json": {
              "type": "string"
            }
          },
          "metadata": {},
          "execution_count": 54
        }
      ]
    },
    {
      "cell_type": "code",
      "source": [
        "corpus = data.lower()\n",
        "corpus"
      ],
      "metadata": {
        "colab": {
          "base_uri": "https://localhost:8080/",
          "height": 199
        },
        "id": "3WQAk4-zxI_O",
        "outputId": "c95536a5-f6b4-4168-c620-06623656d09d"
      },
      "execution_count": 55,
      "outputs": [
        {
          "output_type": "execute_result",
          "data": {
            "text/plain": [
              "\"ab apne man ko kar shant or mere bol ko sun\\nek ek bar he gyan, samaj or amal kar vo gun\\nbeat ko chalne de, bass ko badhne de\\nkho ja is geet pe, sama ye apne ander dhun\\ndar ko hata, jigar phad, dahar apne seene se\\nzindagi koi khel nahi, samaj duniya dimag se\\nlog ayenge bahut rokne wale, jalne wale\\nper mat rukh, baazigar vahi jo ubhare in logo se\\nkar sachi mehnat, dikhava nahi, kar akal ka istemal\\naaj ya kal, ager tu he real, kamyab hogi har chal\\nbas sun apne man ki, kar vahi jo he dimag me\\nkarna he toofani? kar, agey badh, ho kesa bhi haal\\nbas! baat vahi, mat le bhag jahan he race me bheed\\nkar kuch apna taki is race me lage logo ki bheed\\nek zindagi, ek mukaam, dalde apni jaan isme\\nuthayega khatra, hoga ehsaas, tabhi banega sacha veer\\nme aa gaya hu pure josh me\\nkarunga vahi jo he apni soch me\\ndin raat ek karke karunga mehnat\\ndar ko dafnake launga himmat jaan me\\nmujhe pata he logo ko pasand nahi\\nki agey jaye unse bina puche koi bhi\\nlog nachana chahthe he apne ishare pe\\nab me rukne wala nahi, chahe ho kuch bhi\\nab mene rooh ko samjhake jaga diya he\\nvahi apne dil ko dimag se jor diya he\\nab chahe kuch bhi ho agey ka rasta\\nbas mene apne hath pao ko khol diya he\\nab hakikat me lana he apne sapno ko\\numer ho gayi he, ab to mujhe karne do\\nmene bhi dekh li he ye khas duniya\\nab chahe agey kuch bhi ho, farne do\\nsubah me uthu panch baje\\nuthau kalam, likhu rap ache\\nek ek line ko likhu naap tol ke\\ntaki log keh sake, tere rap sache\\nphir niklu bahar, kaam ke liye\\npura din karu mehnat, apne liye\\nkaam ke sath dyniya ko samjhu\\nbanau usko hissa apne rap ke liye\\nraat bhar bhi me na karu aram\\nkalam ke sahare pure karne he arman\\nsoch samajke likhu dil se rap\\napne sabdho ke sahare lau ek farman\\njamana ko roj me samaj raha hu\\ndukh dard ko dur karna, sikh raha hu\\ntaki pura dhyan laga du apne rap pe\\ncheezo ko sapne se hakikat me la raha hu\\nme aya hu chote sehere se\\nna koi dar, nahi koi fikar\\njo karna he, karunga khud se\\nbolke nahi, sab kuch dikhakar\\nbahut kat li zindagi galliyon me\\ndar me, dusro ke ishare me\\nab mitana he andhera zindagi se\\nchamkani he zindagi kamyabi se\\nbahut sun li baatein logo ki roz\\nab nahi uthaunga kisi ka boj\\nab jo karunga, usme hogi meri soch\\nab me jaag gya hu, karni he safalta ki khoj\\nab rehna he mujhe khule aasman ki niche\\nchuhna he safalta ke aasmano ko\\nna chaiye sath ya jana bheed ke piche\\nkhud ki mehnat se khara karunga pero ko\\nmujhe dar iss baat ka hai bas \\nke kahin na ye raat nikal jaaye \\nmere itne bhi paas tu aa mat \\nkahin mere haathon se na baat nikal jaaye\\nbolunga sach main jo de tu ijazat \\nsabar bhi ab karne laga bagawat \\nzulfein hain zaalim aur aankhen hain aafat \\nlagta hai hone wali hai qayamat\\nmat tadpa aise tu \\nna kar na-insaafi \\njo ghalti karne wala hoon main \\nuske liye pehle se hi maangta hoon maafi\\nsadkon pe chale jab \\nladkon ke dilon mein tu \\naag laga de baby, fire! \\nnakli se nakhre tu kare \\njab dekhe humein \\nhanji fir ek baar dekho aaya shanivaar \\nparty karne ke liye baby ji ho gayi taiyyar \\nsarojni ke kapde pehen ke jaati madam disco \\nvip me complimentary shots bhi de do isko \\nisko gaadi chahiye lambi \\nusme music chahiye loud \\nye jaati mehenge club me \\njahaan hota dhang ka crowd \\nludhiyane se aai ladki university padhti hai \\nkehti to hai student hai, but i doubt! \\nmundeya de palle vi tu chadeya ni kakh \\njado sunday monday kare tera jhutte khanda lakk \\naati honda mein, audi mein jati tu khisak \\nchalegi kya \\nglass pada hai khaali, bharegi kya \\nsaath aaye launde se daregi kya \\nandar ki feeling se ladegi kya\\nhadd ho gayi \\nhadd se aage bhi badhegi kya \\nnau acre mein farm ,farm pe ghode \\nghode pe chadhegi kya\\n1 2 3, gaadi ke bonnet se nikle pari \\nlaunde aage kahin tikte nahi \\nbaatein hain kaidi meri, likh le kahin \\nchal niklein kahin aan\\nimage kharaab, kaam galat hai \\nnews mein naam aata har week \\nphir bhi jahaan se guzroon \\nhar bandi ke mooh se nikle cheekh\\nhaath pakad par dil na laga \\njo kehti hai karke dikha \\nsun'ne mein aaya hai tu marti hai humpe \\nmarr ke dikha\\nrehne de, mooh bandh rakh \\naankhein jo kehti hain kehne de \\nbahut ruki hai aaj tu \\npaani banke khud ko behne de\\ncement se nikla gulaab\\naitihasik kitaab\\nhar hal ka jawaab\\nsach hue mere khwaab\\nwafadaar\\nkhabardaar\\nhoshiyaar\\ngully gang sabse hard parivar\\nkoi masle mein atke phir sab zimmedaar\\nkha asli mein fatke phir sab tadipaar\\nginn chun ke hain dost baki saanpo ko kataar\\njab tak photo pe na haar\\ntab tak grind kare\\nshine kare\\njo karna kar tere mind par hai\\nchote zara line par re\\nzabardasti ka josh\\nchod ye nakli tu beef\\ntu asli mein ghosht\\ntu khana mera dost\\nyahan nakli hai famous\\nkya zamana mera dost\\nchal maachis yeh hai poora poora\\njwala mera dost\\ntu paltu mere gaano ne\\npala mera dost\\nlawa lawa\\nspit game proper\\nboys from the naka\\nfive nine eastside hum andheri ke\\nmere fans royal opera se gaiety pe\\njulius bagga aur jd hai\\nmere college wale dost\\nmc sher, moen, murad\\nsab solid mere dost\\nration card wale shooter\\nmatlab foreign wale dost\\nmatlab ek call pe seedha seedha aanewale dost\\nteen ali baba\\naur chaalees mere dost\\nkoiley mein heera ka basera\\ntedi wali soch\\nsuraj chand apne favour mein gedhiyan lagare\\nasal zindagi mein tough\\nsirf video mein naa re great\\nkhali hai rappers sirf video mein ye hard hai\\nshot seedha sarpe isko desi toh pila re\\nchakne mein chicken nahi yahan kaerian khilathe\\npepsi pe bade hue\\njo thailiyon mein aathe\\nsaathvi se saath dost\\nab bhi mere saath hai\\nabhi bhi karte punya\\nabhi bhi karte paap hai\\nkuch nahi tha\\nab chaar din baad\\nsab kuch dekha\\nmai har jagah book\\nbhagwat gita\\nsuroor wala maal\\nnahi peeta seesha\\nmat bhool na\\nchote tune kisse seeekha\\ndivine five nine\\nbhai bhai\\nhi bye\\nopposite se ghost karnar\\nme nahi\\nmh tikkat ambat flow\\nsavra changla bro\\nbangda fry\\ntikkat ambat ho\\ncoast wale log\\nboss wale code\\nbachkaane chhod\\nraastein mein aaye\\nfatka ke chhod\\nrap ka kishore\\nbhai ka na tod\\nkiska na load\\none, two ka four\\nnahi nahi\\none, two ka crore\\ninfluencer model wo kabhi na mere saath\\nbottle seedha sar pe\\nsafeena mere saath\\niss jungle ka tu mowgli\\nakhila meri khaas\\nhaan kamar tod rap\\ntu shakira jaise naach\\nyeh hai kalam tod rap\\npalanng tod rap\\nteri lambi gaadi ke andar\\ntu kabar khod rap\\nab pariwaar pehle baaki check karle facts\\nasal gaane spit karke\\nlaaya underground mei paisa\\npaisa sabko mil raha bataya maine kaisa\\nindustry ko laya maine underground mein\\nindustry bana ab ye underground hai\\nab bohot zyaada farak tere mere sound mein\\ntu hai sound chor\\nmera apna khud ka sound hai\\naasman mein chaati\\nmeri maaji proud hai\\nतू acting अच्छा करता या तो सही में मंद है\\nजो rap में तेरे बोलता क्या वो सही में करता?\\nतू अच्छे घर का अच्छे घर में रह\\nअच्छे घर से रहना मतलब सही ना बे\\nमैं तेरे जैसा नहीं ना बे\\nगाने drop मेरे fans सही में फई ला दे\\nviews खरीदना अपना स्टाइल ना बे! हैरान रह!\\nक्योंकि picture अभी बाकी है\\nजलने वाले रुक जा बेटा सबको देना पार्टी है\\nलड़कियों के साथ अभी पीछे पड़ा गांधी है\\nसूरज मेरा दोस्त अब तो साथ दे रहा चांद भी है\\nजलने वाले मुझे देख कर बोले...\\nभाई तुझे मान लिया\\nमान लिया मान लिया!\\nमन को लगती शांति है जब में जब गांधी है! \\nभाई तुझे मान लिया\\nमन को लगती शांति है जब में जब गांधी है \\nमान लिया मान लिया\\nमन को लगती शांति है जब में जब गांधी है\\nमान लिया मान लिया\\nमन को लगती शांति है जब में जब गांधी है\\nहमको छोटे लाना आंधी है!\\nसाथ थे वो साथ नहीं है अब दिन मेरे रात नहीं है\\ngame मेरे हाथ में ही है मंज़िल मेरे सामने ही है\\nबचकाने तेरे लिए time मेरे पास नहीं है\\nबचकाने तेरे लिए rhyme मेरे पास नहीं है\\nनंगा ही तो आया किसी की औकात नहीं है\\nपैसा बोलता है, मेहनत का या झोल का है\\nसमझ बेटा तेरा role क्या है\\nजो शीशा तेरे सामने वो झूठ नहीं बोलता है\\nपैसे वाला वोट पर वो भी पोल खोलता है\\nकाग़ज़ के नाम पे शैतान तेरे पास में\\nशराब के नाम पे शैतान तेरे glass में\\nउसका खून भी बहता फिर क्यों इतने फासले\\nशीलावती मेरे साथ में!\\nमाँ पूछती क्यों इतना खांसते?\\nक्योंकि माँ तोड़ा हँसना ज़रूरी है\\nबड़ा भाई ने सही बोला था पैसा सबका खूनी है।\\nभाई तुझे मान लिया\\nमान लिया मान लिया!\\nमन को लगती शांति है जब में जब गांधी है! \\nभाई तुझे मान लिया\\nमन को लगती शांति है जब में जब गांधी है \\nमान लिया मान लिया\\nमन को लगती शांति है जब में जब गांधी है\\nमान लिया मान लिया\\nमन को लगती शांति है जब में जब गांधी है\\nहमको छोटे लाना आंधी है!\\nएक खोखा दो खोखा तीन खोखा\\nchal bombay, meri maa se milata hoon\\nchal ghar pe tujhe haath se khilata hoon\\njo bhi bola wo haq se nibhata hoon\\ntujhe chahta hoon\\ntujhe chahta hoon\\nchal bombay, meri maa se milata hoon\\nchal ghar pe tujhe haath se khilata hoon\\njo bhi bola wo haq se nibhata hoon\\ntujhe chahta hoon\\ntujhe chahta hoon\\njab mere saath thi woh\\nmeri khass thi woh\\nmeri shooter, mera nasha, meri ghaas thi woh\\nmanali-manali\\nkawali-kawali\\nwoh dikhti madhuri\\njab pehne woh saree\\nmere munh mein hai gaali\\nwoh mithi sa paani\\nwoh gehra samundar\\nmain behta hua paani\\nmain shayar mawali\\ntera bichla woh jaali\\nye asal nurani... ahaa!\\naa zara ghoom kar dekh\\ngaur se dekh\\ntuhi thi koi aur nai dekh\\nhar raasta hai ab na main road se dekh\\npachtayegi-pachtayegi\\ntu chhod kar dekh\\nye gaana nahi gaana\\nye aashiq deewana\\nkyun jale zamaana\\ntoh jalne de\\nshayad samjhegi woh mere marne pe\\nshayad samjhegi woh mere marne pe\\nchal bombay, meri maa se milata hoon\\nchal ghar pe tujhe haath se khilata hoon\\njo bhi bola wo haq se nibhata hoon\\ntujhe chahta hoon\\nchal bombay, meri maa se milata hoon\\nchal ghar pe tujhe haath se khilata hoon\\njo bhi bola wo haq se nibhata hoon\\ntujhe chahta hoon\\nsunn pagli haan maana meri galti\\nteri saheli aur meri nahi jamti\\nhaan ye darkhwast hai\\nde raha nahi dhamki\\njabse tu mili kasam meri kismat chamki\\nhaan maana main sanki\\npyaar hai sirf tujhse\\naur dikhti nai agli\\naur koi bhi nahi mangti\\nhaan de doon har maala\\ntu banja vyjanthi\\naur koi bhi aa jaave\\nhila dunga dharti\\nbol tere papa, mama ya chacha ko\\nzai tuze mog\\ndoosre kithe naka go\\nmaka naka go\\nmaka naka go\\nzai tuze mog ani\\ndoosre kithe naka go\\ngoan ladka main, desh bhar mein charcha hai\\nsafal ho jaaye jo ek baar tu church aaye\\naa public marti hai\\nye tujhpe marta hai\\naa sach bolun toh\\nkhaali tujhse darta hai\\nchal bombay, meri maa se milata hoon\\nchal ghar pe tujhe haath se khilata hoon\\njo bhi bola wo haq se nibhata hoon\\ntujhe chahta hoon\\ntujhe chahta hoon\\nchal bombay, meri maa se milata hoon\\nchal ghar pe tujhe haath se khilata hoon\\njo bhi bola wo haq se nibhata hoon\\n\\n\\n\\n\\n\\n\\n\\n\\n\""
            ],
            "application/vnd.google.colaboratory.intrinsic+json": {
              "type": "string"
            }
          },
          "metadata": {},
          "execution_count": 55
        }
      ]
    },
    {
      "cell_type": "code",
      "source": [
        "corpus = corpus.split('\\n')\n",
        "print(corpus)"
      ],
      "metadata": {
        "colab": {
          "base_uri": "https://localhost:8080/"
        },
        "id": "c327tRPWxVBJ",
        "outputId": "b96d7094-7b5e-4e3b-f614-ffa4093de9ca"
      },
      "execution_count": 56,
      "outputs": [
        {
          "output_type": "stream",
          "name": "stdout",
          "text": [
            "['ab apne man ko kar shant or mere bol ko sun', 'ek ek bar he gyan, samaj or amal kar vo gun', 'beat ko chalne de, bass ko badhne de', 'kho ja is geet pe, sama ye apne ander dhun', 'dar ko hata, jigar phad, dahar apne seene se', 'zindagi koi khel nahi, samaj duniya dimag se', 'log ayenge bahut rokne wale, jalne wale', 'per mat rukh, baazigar vahi jo ubhare in logo se', 'kar sachi mehnat, dikhava nahi, kar akal ka istemal', 'aaj ya kal, ager tu he real, kamyab hogi har chal', 'bas sun apne man ki, kar vahi jo he dimag me', 'karna he toofani? kar, agey badh, ho kesa bhi haal', 'bas! baat vahi, mat le bhag jahan he race me bheed', 'kar kuch apna taki is race me lage logo ki bheed', 'ek zindagi, ek mukaam, dalde apni jaan isme', 'uthayega khatra, hoga ehsaas, tabhi banega sacha veer', 'me aa gaya hu pure josh me', 'karunga vahi jo he apni soch me', 'din raat ek karke karunga mehnat', 'dar ko dafnake launga himmat jaan me', 'mujhe pata he logo ko pasand nahi', 'ki agey jaye unse bina puche koi bhi', 'log nachana chahthe he apne ishare pe', 'ab me rukne wala nahi, chahe ho kuch bhi', 'ab mene rooh ko samjhake jaga diya he', 'vahi apne dil ko dimag se jor diya he', 'ab chahe kuch bhi ho agey ka rasta', 'bas mene apne hath pao ko khol diya he', 'ab hakikat me lana he apne sapno ko', 'umer ho gayi he, ab to mujhe karne do', 'mene bhi dekh li he ye khas duniya', 'ab chahe agey kuch bhi ho, farne do', 'subah me uthu panch baje', 'uthau kalam, likhu rap ache', 'ek ek line ko likhu naap tol ke', 'taki log keh sake, tere rap sache', 'phir niklu bahar, kaam ke liye', 'pura din karu mehnat, apne liye', 'kaam ke sath dyniya ko samjhu', 'banau usko hissa apne rap ke liye', 'raat bhar bhi me na karu aram', 'kalam ke sahare pure karne he arman', 'soch samajke likhu dil se rap', 'apne sabdho ke sahare lau ek farman', 'jamana ko roj me samaj raha hu', 'dukh dard ko dur karna, sikh raha hu', 'taki pura dhyan laga du apne rap pe', 'cheezo ko sapne se hakikat me la raha hu', 'me aya hu chote sehere se', 'na koi dar, nahi koi fikar', 'jo karna he, karunga khud se', 'bolke nahi, sab kuch dikhakar', 'bahut kat li zindagi galliyon me', 'dar me, dusro ke ishare me', 'ab mitana he andhera zindagi se', 'chamkani he zindagi kamyabi se', 'bahut sun li baatein logo ki roz', 'ab nahi uthaunga kisi ka boj', 'ab jo karunga, usme hogi meri soch', 'ab me jaag gya hu, karni he safalta ki khoj', 'ab rehna he mujhe khule aasman ki niche', 'chuhna he safalta ke aasmano ko', 'na chaiye sath ya jana bheed ke piche', 'khud ki mehnat se khara karunga pero ko', 'mujhe dar iss baat ka hai bas ', 'ke kahin na ye raat nikal jaaye ', 'mere itne bhi paas tu aa mat ', 'kahin mere haathon se na baat nikal jaaye', 'bolunga sach main jo de tu ijazat ', 'sabar bhi ab karne laga bagawat ', 'zulfein hain zaalim aur aankhen hain aafat ', 'lagta hai hone wali hai qayamat', 'mat tadpa aise tu ', 'na kar na-insaafi ', 'jo ghalti karne wala hoon main ', 'uske liye pehle se hi maangta hoon maafi', 'sadkon pe chale jab ', 'ladkon ke dilon mein tu ', 'aag laga de baby, fire! ', 'nakli se nakhre tu kare ', 'jab dekhe humein ', 'hanji fir ek baar dekho aaya shanivaar ', 'party karne ke liye baby ji ho gayi taiyyar ', 'sarojni ke kapde pehen ke jaati madam disco ', 'vip me complimentary shots bhi de do isko ', 'isko gaadi chahiye lambi ', 'usme music chahiye loud ', 'ye jaati mehenge club me ', 'jahaan hota dhang ka crowd ', 'ludhiyane se aai ladki university padhti hai ', 'kehti to hai student hai, but i doubt! ', 'mundeya de palle vi tu chadeya ni kakh ', 'jado sunday monday kare tera jhutte khanda lakk ', 'aati honda mein, audi mein jati tu khisak ', 'chalegi kya ', 'glass pada hai khaali, bharegi kya ', 'saath aaye launde se daregi kya ', 'andar ki feeling se ladegi kya', 'hadd ho gayi ', 'hadd se aage bhi badhegi kya ', 'nau acre mein farm ,farm pe ghode ', 'ghode pe chadhegi kya', '1 2 3, gaadi ke bonnet se nikle pari ', 'launde aage kahin tikte nahi ', 'baatein hain kaidi meri, likh le kahin ', 'chal niklein kahin aan', 'image kharaab, kaam galat hai ', 'news mein naam aata har week ', 'phir bhi jahaan se guzroon ', 'har bandi ke mooh se nikle cheekh', 'haath pakad par dil na laga ', 'jo kehti hai karke dikha ', \"sun'ne mein aaya hai tu marti hai humpe \", 'marr ke dikha', 'rehne de, mooh bandh rakh ', 'aankhein jo kehti hain kehne de ', 'bahut ruki hai aaj tu ', 'paani banke khud ko behne de', 'cement se nikla gulaab', 'aitihasik kitaab', 'har hal ka jawaab', 'sach hue mere khwaab', 'wafadaar', 'khabardaar', 'hoshiyaar', 'gully gang sabse hard parivar', 'koi masle mein atke phir sab zimmedaar', 'kha asli mein fatke phir sab tadipaar', 'ginn chun ke hain dost baki saanpo ko kataar', 'jab tak photo pe na haar', 'tab tak grind kare', 'shine kare', 'jo karna kar tere mind par hai', 'chote zara line par re', 'zabardasti ka josh', 'chod ye nakli tu beef', 'tu asli mein ghosht', 'tu khana mera dost', 'yahan nakli hai famous', 'kya zamana mera dost', 'chal maachis yeh hai poora poora', 'jwala mera dost', 'tu paltu mere gaano ne', 'pala mera dost', 'lawa lawa', 'spit game proper', 'boys from the naka', 'five nine eastside hum andheri ke', 'mere fans royal opera se gaiety pe', 'julius bagga aur jd hai', 'mere college wale dost', 'mc sher, moen, murad', 'sab solid mere dost', 'ration card wale shooter', 'matlab foreign wale dost', 'matlab ek call pe seedha seedha aanewale dost', 'teen ali baba', 'aur chaalees mere dost', 'koiley mein heera ka basera', 'tedi wali soch', 'suraj chand apne favour mein gedhiyan lagare', 'asal zindagi mein tough', 'sirf video mein naa re great', 'khali hai rappers sirf video mein ye hard hai', 'shot seedha sarpe isko desi toh pila re', 'chakne mein chicken nahi yahan kaerian khilathe', 'pepsi pe bade hue', 'jo thailiyon mein aathe', 'saathvi se saath dost', 'ab bhi mere saath hai', 'abhi bhi karte punya', 'abhi bhi karte paap hai', 'kuch nahi tha', 'ab chaar din baad', 'sab kuch dekha', 'mai har jagah book', 'bhagwat gita', 'suroor wala maal', 'nahi peeta seesha', 'mat bhool na', 'chote tune kisse seeekha', 'divine five nine', 'bhai bhai', 'hi bye', 'opposite se ghost karnar', 'me nahi', 'mh tikkat ambat flow', 'savra changla bro', 'bangda fry', 'tikkat ambat ho', 'coast wale log', 'boss wale code', 'bachkaane chhod', 'raastein mein aaye', 'fatka ke chhod', 'rap ka kishore', 'bhai ka na tod', 'kiska na load', 'one, two ka four', 'nahi nahi', 'one, two ka crore', 'influencer model wo kabhi na mere saath', 'bottle seedha sar pe', 'safeena mere saath', 'iss jungle ka tu mowgli', 'akhila meri khaas', 'haan kamar tod rap', 'tu shakira jaise naach', 'yeh hai kalam tod rap', 'palanng tod rap', 'teri lambi gaadi ke andar', 'tu kabar khod rap', 'ab pariwaar pehle baaki check karle facts', 'asal gaane spit karke', 'laaya underground mei paisa', 'paisa sabko mil raha bataya maine kaisa', 'industry ko laya maine underground mein', 'industry bana ab ye underground hai', 'ab bohot zyaada farak tere mere sound mein', 'tu hai sound chor', 'mera apna khud ka sound hai', 'aasman mein chaati', 'meri maaji proud hai', 'तू acting अच्छा करता या तो सही में मंद है', 'जो rap में तेरे बोलता क्या वो सही में करता?', 'तू अच्छे घर का अच्छे घर में रह', 'अच्छे घर से रहना मतलब सही ना बे', 'मैं तेरे जैसा नहीं ना बे', 'गाने drop मेरे fans सही में फई ला दे', 'views खरीदना अपना स्टाइल ना बे! हैरान रह!', 'क्योंकि picture अभी बाकी है', 'जलने वाले रुक जा बेटा सबको देना पार्टी है', 'लड़कियों के साथ अभी पीछे पड़ा गांधी है', 'सूरज मेरा दोस्त अब तो साथ दे रहा चांद भी है', 'जलने वाले मुझे देख कर बोले...', 'भाई तुझे मान लिया', 'मान लिया मान लिया!', 'मन को लगती शांति है जब में जब गांधी है! ', 'भाई तुझे मान लिया', 'मन को लगती शांति है जब में जब गांधी है ', 'मान लिया मान लिया', 'मन को लगती शांति है जब में जब गांधी है', 'मान लिया मान लिया', 'मन को लगती शांति है जब में जब गांधी है', 'हमको छोटे लाना आंधी है!', 'साथ थे वो साथ नहीं है अब दिन मेरे रात नहीं है', 'game मेरे हाथ में ही है मंज़िल मेरे सामने ही है', 'बचकाने तेरे लिए time मेरे पास नहीं है', 'बचकाने तेरे लिए rhyme मेरे पास नहीं है', 'नंगा ही तो आया किसी की औकात नहीं है', 'पैसा बोलता है, मेहनत का या झोल का है', 'समझ बेटा तेरा role क्या है', 'जो शीशा तेरे सामने वो झूठ नहीं बोलता है', 'पैसे वाला वोट पर वो भी पोल खोलता है', 'काग़ज़ के नाम पे शैतान तेरे पास में', 'शराब के नाम पे शैतान तेरे glass में', 'उसका खून भी बहता फिर क्यों इतने फासले', 'शीलावती मेरे साथ में!', 'माँ पूछती क्यों इतना खांसते?', 'क्योंकि माँ तोड़ा हँसना ज़रूरी है', 'बड़ा भाई ने सही बोला था पैसा सबका खूनी है।', 'भाई तुझे मान लिया', 'मान लिया मान लिया!', 'मन को लगती शांति है जब में जब गांधी है! ', 'भाई तुझे मान लिया', 'मन को लगती शांति है जब में जब गांधी है ', 'मान लिया मान लिया', 'मन को लगती शांति है जब में जब गांधी है', 'मान लिया मान लिया', 'मन को लगती शांति है जब में जब गांधी है', 'हमको छोटे लाना आंधी है!', 'एक खोखा दो खोखा तीन खोखा', 'chal bombay, meri maa se milata hoon', 'chal ghar pe tujhe haath se khilata hoon', 'jo bhi bola wo haq se nibhata hoon', 'tujhe chahta hoon', 'tujhe chahta hoon', 'chal bombay, meri maa se milata hoon', 'chal ghar pe tujhe haath se khilata hoon', 'jo bhi bola wo haq se nibhata hoon', 'tujhe chahta hoon', 'tujhe chahta hoon', 'jab mere saath thi woh', 'meri khass thi woh', 'meri shooter, mera nasha, meri ghaas thi woh', 'manali-manali', 'kawali-kawali', 'woh dikhti madhuri', 'jab pehne woh saree', 'mere munh mein hai gaali', 'woh mithi sa paani', 'woh gehra samundar', 'main behta hua paani', 'main shayar mawali', 'tera bichla woh jaali', 'ye asal nurani... ahaa!', 'aa zara ghoom kar dekh', 'gaur se dekh', 'tuhi thi koi aur nai dekh', 'har raasta hai ab na main road se dekh', 'pachtayegi-pachtayegi', 'tu chhod kar dekh', 'ye gaana nahi gaana', 'ye aashiq deewana', 'kyun jale zamaana', 'toh jalne de', 'shayad samjhegi woh mere marne pe', 'shayad samjhegi woh mere marne pe', 'chal bombay, meri maa se milata hoon', 'chal ghar pe tujhe haath se khilata hoon', 'jo bhi bola wo haq se nibhata hoon', 'tujhe chahta hoon', 'chal bombay, meri maa se milata hoon', 'chal ghar pe tujhe haath se khilata hoon', 'jo bhi bola wo haq se nibhata hoon', 'tujhe chahta hoon', 'sunn pagli haan maana meri galti', 'teri saheli aur meri nahi jamti', 'haan ye darkhwast hai', 'de raha nahi dhamki', 'jabse tu mili kasam meri kismat chamki', 'haan maana main sanki', 'pyaar hai sirf tujhse', 'aur dikhti nai agli', 'aur koi bhi nahi mangti', 'haan de doon har maala', 'tu banja vyjanthi', 'aur koi bhi aa jaave', 'hila dunga dharti', 'bol tere papa, mama ya chacha ko', 'zai tuze mog', 'doosre kithe naka go', 'maka naka go', 'maka naka go', 'zai tuze mog ani', 'doosre kithe naka go', 'goan ladka main, desh bhar mein charcha hai', 'safal ho jaaye jo ek baar tu church aaye', 'aa public marti hai', 'ye tujhpe marta hai', 'aa sach bolun toh', 'khaali tujhse darta hai', 'chal bombay, meri maa se milata hoon', 'chal ghar pe tujhe haath se khilata hoon', 'jo bhi bola wo haq se nibhata hoon', 'tujhe chahta hoon', 'tujhe chahta hoon', 'chal bombay, meri maa se milata hoon', 'chal ghar pe tujhe haath se khilata hoon', 'jo bhi bola wo haq se nibhata hoon', '', '', '', '', '', '', '', '', '']\n"
          ]
        }
      ]
    },
    {
      "cell_type": "code",
      "source": [
        "import tensorflow as tf\n",
        "\n",
        "from tensorflow.keras.preprocessing.text import Tokenizer\n",
        "from tensorflow.keras.preprocessing.sequence import pad_sequences\n",
        "\n",
        "tokenizer  = Tokenizer()\n",
        "\n",
        "tokenizer.fit_on_texts(corpus)\n",
        "\n",
        "total_words = len(tokenizer.word_index) + 1\n",
        "\n",
        "print(total_words)"
      ],
      "metadata": {
        "colab": {
          "base_uri": "https://localhost:8080/"
        },
        "id": "1W1svatqxdAj",
        "outputId": "9537a903-12b0-4365-9b8a-17390b1336d8"
      },
      "execution_count": 57,
      "outputs": [
        {
          "output_type": "stream",
          "name": "stdout",
          "text": [
            "879\n"
          ]
        }
      ]
    },
    {
      "cell_type": "code",
      "source": [
        "print(corpus)"
      ],
      "metadata": {
        "colab": {
          "base_uri": "https://localhost:8080/"
        },
        "id": "kFHAX66ky9T5",
        "outputId": "0b9becbb-ebc9-4892-d9f8-097ca12344d7"
      },
      "execution_count": 58,
      "outputs": [
        {
          "output_type": "stream",
          "name": "stdout",
          "text": [
            "['ab apne man ko kar shant or mere bol ko sun', 'ek ek bar he gyan, samaj or amal kar vo gun', 'beat ko chalne de, bass ko badhne de', 'kho ja is geet pe, sama ye apne ander dhun', 'dar ko hata, jigar phad, dahar apne seene se', 'zindagi koi khel nahi, samaj duniya dimag se', 'log ayenge bahut rokne wale, jalne wale', 'per mat rukh, baazigar vahi jo ubhare in logo se', 'kar sachi mehnat, dikhava nahi, kar akal ka istemal', 'aaj ya kal, ager tu he real, kamyab hogi har chal', 'bas sun apne man ki, kar vahi jo he dimag me', 'karna he toofani? kar, agey badh, ho kesa bhi haal', 'bas! baat vahi, mat le bhag jahan he race me bheed', 'kar kuch apna taki is race me lage logo ki bheed', 'ek zindagi, ek mukaam, dalde apni jaan isme', 'uthayega khatra, hoga ehsaas, tabhi banega sacha veer', 'me aa gaya hu pure josh me', 'karunga vahi jo he apni soch me', 'din raat ek karke karunga mehnat', 'dar ko dafnake launga himmat jaan me', 'mujhe pata he logo ko pasand nahi', 'ki agey jaye unse bina puche koi bhi', 'log nachana chahthe he apne ishare pe', 'ab me rukne wala nahi, chahe ho kuch bhi', 'ab mene rooh ko samjhake jaga diya he', 'vahi apne dil ko dimag se jor diya he', 'ab chahe kuch bhi ho agey ka rasta', 'bas mene apne hath pao ko khol diya he', 'ab hakikat me lana he apne sapno ko', 'umer ho gayi he, ab to mujhe karne do', 'mene bhi dekh li he ye khas duniya', 'ab chahe agey kuch bhi ho, farne do', 'subah me uthu panch baje', 'uthau kalam, likhu rap ache', 'ek ek line ko likhu naap tol ke', 'taki log keh sake, tere rap sache', 'phir niklu bahar, kaam ke liye', 'pura din karu mehnat, apne liye', 'kaam ke sath dyniya ko samjhu', 'banau usko hissa apne rap ke liye', 'raat bhar bhi me na karu aram', 'kalam ke sahare pure karne he arman', 'soch samajke likhu dil se rap', 'apne sabdho ke sahare lau ek farman', 'jamana ko roj me samaj raha hu', 'dukh dard ko dur karna, sikh raha hu', 'taki pura dhyan laga du apne rap pe', 'cheezo ko sapne se hakikat me la raha hu', 'me aya hu chote sehere se', 'na koi dar, nahi koi fikar', 'jo karna he, karunga khud se', 'bolke nahi, sab kuch dikhakar', 'bahut kat li zindagi galliyon me', 'dar me, dusro ke ishare me', 'ab mitana he andhera zindagi se', 'chamkani he zindagi kamyabi se', 'bahut sun li baatein logo ki roz', 'ab nahi uthaunga kisi ka boj', 'ab jo karunga, usme hogi meri soch', 'ab me jaag gya hu, karni he safalta ki khoj', 'ab rehna he mujhe khule aasman ki niche', 'chuhna he safalta ke aasmano ko', 'na chaiye sath ya jana bheed ke piche', 'khud ki mehnat se khara karunga pero ko', 'mujhe dar iss baat ka hai bas ', 'ke kahin na ye raat nikal jaaye ', 'mere itne bhi paas tu aa mat ', 'kahin mere haathon se na baat nikal jaaye', 'bolunga sach main jo de tu ijazat ', 'sabar bhi ab karne laga bagawat ', 'zulfein hain zaalim aur aankhen hain aafat ', 'lagta hai hone wali hai qayamat', 'mat tadpa aise tu ', 'na kar na-insaafi ', 'jo ghalti karne wala hoon main ', 'uske liye pehle se hi maangta hoon maafi', 'sadkon pe chale jab ', 'ladkon ke dilon mein tu ', 'aag laga de baby, fire! ', 'nakli se nakhre tu kare ', 'jab dekhe humein ', 'hanji fir ek baar dekho aaya shanivaar ', 'party karne ke liye baby ji ho gayi taiyyar ', 'sarojni ke kapde pehen ke jaati madam disco ', 'vip me complimentary shots bhi de do isko ', 'isko gaadi chahiye lambi ', 'usme music chahiye loud ', 'ye jaati mehenge club me ', 'jahaan hota dhang ka crowd ', 'ludhiyane se aai ladki university padhti hai ', 'kehti to hai student hai, but i doubt! ', 'mundeya de palle vi tu chadeya ni kakh ', 'jado sunday monday kare tera jhutte khanda lakk ', 'aati honda mein, audi mein jati tu khisak ', 'chalegi kya ', 'glass pada hai khaali, bharegi kya ', 'saath aaye launde se daregi kya ', 'andar ki feeling se ladegi kya', 'hadd ho gayi ', 'hadd se aage bhi badhegi kya ', 'nau acre mein farm ,farm pe ghode ', 'ghode pe chadhegi kya', '1 2 3, gaadi ke bonnet se nikle pari ', 'launde aage kahin tikte nahi ', 'baatein hain kaidi meri, likh le kahin ', 'chal niklein kahin aan', 'image kharaab, kaam galat hai ', 'news mein naam aata har week ', 'phir bhi jahaan se guzroon ', 'har bandi ke mooh se nikle cheekh', 'haath pakad par dil na laga ', 'jo kehti hai karke dikha ', \"sun'ne mein aaya hai tu marti hai humpe \", 'marr ke dikha', 'rehne de, mooh bandh rakh ', 'aankhein jo kehti hain kehne de ', 'bahut ruki hai aaj tu ', 'paani banke khud ko behne de', 'cement se nikla gulaab', 'aitihasik kitaab', 'har hal ka jawaab', 'sach hue mere khwaab', 'wafadaar', 'khabardaar', 'hoshiyaar', 'gully gang sabse hard parivar', 'koi masle mein atke phir sab zimmedaar', 'kha asli mein fatke phir sab tadipaar', 'ginn chun ke hain dost baki saanpo ko kataar', 'jab tak photo pe na haar', 'tab tak grind kare', 'shine kare', 'jo karna kar tere mind par hai', 'chote zara line par re', 'zabardasti ka josh', 'chod ye nakli tu beef', 'tu asli mein ghosht', 'tu khana mera dost', 'yahan nakli hai famous', 'kya zamana mera dost', 'chal maachis yeh hai poora poora', 'jwala mera dost', 'tu paltu mere gaano ne', 'pala mera dost', 'lawa lawa', 'spit game proper', 'boys from the naka', 'five nine eastside hum andheri ke', 'mere fans royal opera se gaiety pe', 'julius bagga aur jd hai', 'mere college wale dost', 'mc sher, moen, murad', 'sab solid mere dost', 'ration card wale shooter', 'matlab foreign wale dost', 'matlab ek call pe seedha seedha aanewale dost', 'teen ali baba', 'aur chaalees mere dost', 'koiley mein heera ka basera', 'tedi wali soch', 'suraj chand apne favour mein gedhiyan lagare', 'asal zindagi mein tough', 'sirf video mein naa re great', 'khali hai rappers sirf video mein ye hard hai', 'shot seedha sarpe isko desi toh pila re', 'chakne mein chicken nahi yahan kaerian khilathe', 'pepsi pe bade hue', 'jo thailiyon mein aathe', 'saathvi se saath dost', 'ab bhi mere saath hai', 'abhi bhi karte punya', 'abhi bhi karte paap hai', 'kuch nahi tha', 'ab chaar din baad', 'sab kuch dekha', 'mai har jagah book', 'bhagwat gita', 'suroor wala maal', 'nahi peeta seesha', 'mat bhool na', 'chote tune kisse seeekha', 'divine five nine', 'bhai bhai', 'hi bye', 'opposite se ghost karnar', 'me nahi', 'mh tikkat ambat flow', 'savra changla bro', 'bangda fry', 'tikkat ambat ho', 'coast wale log', 'boss wale code', 'bachkaane chhod', 'raastein mein aaye', 'fatka ke chhod', 'rap ka kishore', 'bhai ka na tod', 'kiska na load', 'one, two ka four', 'nahi nahi', 'one, two ka crore', 'influencer model wo kabhi na mere saath', 'bottle seedha sar pe', 'safeena mere saath', 'iss jungle ka tu mowgli', 'akhila meri khaas', 'haan kamar tod rap', 'tu shakira jaise naach', 'yeh hai kalam tod rap', 'palanng tod rap', 'teri lambi gaadi ke andar', 'tu kabar khod rap', 'ab pariwaar pehle baaki check karle facts', 'asal gaane spit karke', 'laaya underground mei paisa', 'paisa sabko mil raha bataya maine kaisa', 'industry ko laya maine underground mein', 'industry bana ab ye underground hai', 'ab bohot zyaada farak tere mere sound mein', 'tu hai sound chor', 'mera apna khud ka sound hai', 'aasman mein chaati', 'meri maaji proud hai', 'तू acting अच्छा करता या तो सही में मंद है', 'जो rap में तेरे बोलता क्या वो सही में करता?', 'तू अच्छे घर का अच्छे घर में रह', 'अच्छे घर से रहना मतलब सही ना बे', 'मैं तेरे जैसा नहीं ना बे', 'गाने drop मेरे fans सही में फई ला दे', 'views खरीदना अपना स्टाइल ना बे! हैरान रह!', 'क्योंकि picture अभी बाकी है', 'जलने वाले रुक जा बेटा सबको देना पार्टी है', 'लड़कियों के साथ अभी पीछे पड़ा गांधी है', 'सूरज मेरा दोस्त अब तो साथ दे रहा चांद भी है', 'जलने वाले मुझे देख कर बोले...', 'भाई तुझे मान लिया', 'मान लिया मान लिया!', 'मन को लगती शांति है जब में जब गांधी है! ', 'भाई तुझे मान लिया', 'मन को लगती शांति है जब में जब गांधी है ', 'मान लिया मान लिया', 'मन को लगती शांति है जब में जब गांधी है', 'मान लिया मान लिया', 'मन को लगती शांति है जब में जब गांधी है', 'हमको छोटे लाना आंधी है!', 'साथ थे वो साथ नहीं है अब दिन मेरे रात नहीं है', 'game मेरे हाथ में ही है मंज़िल मेरे सामने ही है', 'बचकाने तेरे लिए time मेरे पास नहीं है', 'बचकाने तेरे लिए rhyme मेरे पास नहीं है', 'नंगा ही तो आया किसी की औकात नहीं है', 'पैसा बोलता है, मेहनत का या झोल का है', 'समझ बेटा तेरा role क्या है', 'जो शीशा तेरे सामने वो झूठ नहीं बोलता है', 'पैसे वाला वोट पर वो भी पोल खोलता है', 'काग़ज़ के नाम पे शैतान तेरे पास में', 'शराब के नाम पे शैतान तेरे glass में', 'उसका खून भी बहता फिर क्यों इतने फासले', 'शीलावती मेरे साथ में!', 'माँ पूछती क्यों इतना खांसते?', 'क्योंकि माँ तोड़ा हँसना ज़रूरी है', 'बड़ा भाई ने सही बोला था पैसा सबका खूनी है।', 'भाई तुझे मान लिया', 'मान लिया मान लिया!', 'मन को लगती शांति है जब में जब गांधी है! ', 'भाई तुझे मान लिया', 'मन को लगती शांति है जब में जब गांधी है ', 'मान लिया मान लिया', 'मन को लगती शांति है जब में जब गांधी है', 'मान लिया मान लिया', 'मन को लगती शांति है जब में जब गांधी है', 'हमको छोटे लाना आंधी है!', 'एक खोखा दो खोखा तीन खोखा', 'chal bombay, meri maa se milata hoon', 'chal ghar pe tujhe haath se khilata hoon', 'jo bhi bola wo haq se nibhata hoon', 'tujhe chahta hoon', 'tujhe chahta hoon', 'chal bombay, meri maa se milata hoon', 'chal ghar pe tujhe haath se khilata hoon', 'jo bhi bola wo haq se nibhata hoon', 'tujhe chahta hoon', 'tujhe chahta hoon', 'jab mere saath thi woh', 'meri khass thi woh', 'meri shooter, mera nasha, meri ghaas thi woh', 'manali-manali', 'kawali-kawali', 'woh dikhti madhuri', 'jab pehne woh saree', 'mere munh mein hai gaali', 'woh mithi sa paani', 'woh gehra samundar', 'main behta hua paani', 'main shayar mawali', 'tera bichla woh jaali', 'ye asal nurani... ahaa!', 'aa zara ghoom kar dekh', 'gaur se dekh', 'tuhi thi koi aur nai dekh', 'har raasta hai ab na main road se dekh', 'pachtayegi-pachtayegi', 'tu chhod kar dekh', 'ye gaana nahi gaana', 'ye aashiq deewana', 'kyun jale zamaana', 'toh jalne de', 'shayad samjhegi woh mere marne pe', 'shayad samjhegi woh mere marne pe', 'chal bombay, meri maa se milata hoon', 'chal ghar pe tujhe haath se khilata hoon', 'jo bhi bola wo haq se nibhata hoon', 'tujhe chahta hoon', 'chal bombay, meri maa se milata hoon', 'chal ghar pe tujhe haath se khilata hoon', 'jo bhi bola wo haq se nibhata hoon', 'tujhe chahta hoon', 'sunn pagli haan maana meri galti', 'teri saheli aur meri nahi jamti', 'haan ye darkhwast hai', 'de raha nahi dhamki', 'jabse tu mili kasam meri kismat chamki', 'haan maana main sanki', 'pyaar hai sirf tujhse', 'aur dikhti nai agli', 'aur koi bhi nahi mangti', 'haan de doon har maala', 'tu banja vyjanthi', 'aur koi bhi aa jaave', 'hila dunga dharti', 'bol tere papa, mama ya chacha ko', 'zai tuze mog', 'doosre kithe naka go', 'maka naka go', 'maka naka go', 'zai tuze mog ani', 'doosre kithe naka go', 'goan ladka main, desh bhar mein charcha hai', 'safal ho jaaye jo ek baar tu church aaye', 'aa public marti hai', 'ye tujhpe marta hai', 'aa sach bolun toh', 'khaali tujhse darta hai', 'chal bombay, meri maa se milata hoon', 'chal ghar pe tujhe haath se khilata hoon', 'jo bhi bola wo haq se nibhata hoon', 'tujhe chahta hoon', 'tujhe chahta hoon', 'chal bombay, meri maa se milata hoon', 'chal ghar pe tujhe haath se khilata hoon', 'jo bhi bola wo haq se nibhata hoon', '', '', '', '', '', '', '', '', '']\n"
          ]
        }
      ]
    },
    {
      "cell_type": "code",
      "source": [
        "print(tokenizer.word_index)"
      ],
      "metadata": {
        "colab": {
          "base_uri": "https://localhost:8080/"
        },
        "id": "AwD3zdqyzhpr",
        "outputId": "eaf281a2-59c7-4d1b-c9d1-ad4e506e26fa"
      },
      "execution_count": 59,
      "outputs": [
        {
          "output_type": "stream",
          "name": "stdout",
          "text": [
            "{'se': 1, 'है': 2, 'hai': 3, 'hoon': 4, 'bhi': 5, 'ko': 6, 'tu': 7, 'mein': 8, 'he': 9, 'me': 10, 'ke': 11, 'ab': 12, 'pe': 13, 'nahi': 14, 'jo': 15, 'mere': 16, 'में': 17, 'meri': 18, 'मान': 19, 'लिया': 20, 'जब': 21, 'chal': 22, 'ka': 23, 'na': 24, 'tujhe': 25, 'apne': 26, 'de': 27, 'ye': 28, 'kar': 29, 'ek': 30, 'rap': 31, 'dost': 32, 'woh': 33, 'ho': 34, 'गांधी': 35, 'koi': 36, 'ki': 37, 'aur': 38, 'मन': 39, 'को': 40, 'लगती': 41, 'शांति': 42, 'chahta': 43, 'wale': 44, 'har': 45, 'kuch': 46, 'main': 47, 'kya': 48, 'haath': 49, 'wo': 50, 'तेरे': 51, 'नहीं': 52, 'मेरे': 53, 'zindagi': 54, 'aa': 55, 'hu': 56, 'dekh': 57, 'saath': 58, 'mera': 59, 'bombay': 60, 'maa': 61, 'milata': 62, 'ghar': 63, 'khilata': 64, 'bola': 65, 'haq': 66, 'nibhata': 67, 'dar': 68, 'mat': 69, 'vahi': 70, 'karunga': 71, 'karne': 72, 'liye': 73, 'raha': 74, 'sab': 75, 'kahin': 76, 'hain': 77, 'jab': 78, 'naka': 79, 'haan': 80, 'सही': 81, 'साथ': 82, 'भाई': 83, 'log': 84, 'bahut': 85, 'logo': 86, 'mehnat': 87, 'bas': 88, 'karna': 89, 'agey': 90, 'soch': 91, 'mujhe': 92, 'tere': 93, 'phir': 94, 'laga': 95, 'khud': 96, 'kare': 97, 'seedha': 98, 'tod': 99, 'वो': 100, 'तुझे': 101, 'thi': 102, 'go': 103, 'sun': 104, 'samaj': 105, 'dimag': 106, 'ya': 107, 'baat': 108, 'bheed': 109, 'taki': 110, 'din': 111, 'raat': 112, 'karke': 113, 'wala': 114, 'chahe': 115, 'mene': 116, 'diya': 117, 'dil': 118, 'gayi': 119, 'do': 120, 'li': 121, 'kalam': 122, 'likhu': 123, 'kaam': 124, 'chote': 125, 'jaaye': 126, 'sach': 127, 'nakli': 128, 'isko': 129, 'gaadi': 130, 'kehti': 131, 'aaye': 132, 'par': 133, 'paani': 134, 're': 135, 'asal': 136, 'sirf': 137, 'toh': 138, 'bhai': 139, 'chhod': 140, 'underground': 141, 'sound': 142, 'तो': 143, 'बोलता': 144, 'अच्छे': 145, 'घर': 146, 'का': 147, 'ना': 148, 'बे': 149, 'के': 150, 'भी': 151, 'ही': 152, 'पास': 153, 'खोखा': 154, 'man': 155, 'or': 156, 'bol': 157, 'is': 158, 'duniya': 159, 'jalne': 160, 'aaj': 161, 'hogi': 162, 'le': 163, 'race': 164, 'apna': 165, 'apni': 166, 'jaan': 167, 'pure': 168, 'josh': 169, 'ishare': 170, 'hakikat': 171, 'to': 172, 'line': 173, 'pura': 174, 'karu': 175, 'sath': 176, 'bhar': 177, 'sahare': 178, 'baatein': 179, 'usme': 180, 'safalta': 181, 'aasman': 182, 'iss': 183, 'nikal': 184, 'wali': 185, 'pehle': 186, 'hi': 187, 'baby': 188, 'baar': 189, 'aaya': 190, 'jaati': 191, 'chahiye': 192, 'lambi': 193, 'jahaan': 194, 'tera': 195, 'glass': 196, 'khaali': 197, 'launde': 198, 'andar': 199, 'hadd': 200, 'aage': 201, 'farm': 202, 'ghode': 203, 'nikle': 204, 'mooh': 205, 'dikha': 206, 'marti': 207, 'hue': 208, 'hard': 209, 'asli': 210, 'tak': 211, 'zara': 212, 'yahan': 213, 'yeh': 214, 'poora': 215, 'lawa': 216, 'spit': 217, 'game': 218, 'five': 219, 'nine': 220, 'fans': 221, 'shooter': 222, 'matlab': 223, 'video': 224, 'abhi': 225, 'karte': 226, 'tikkat': 227, 'ambat': 228, 'one': 229, 'two': 230, 'teri': 231, 'paisa': 232, 'maine': 233, 'industry': 234, 'तू': 235, 'करता': 236, 'या': 237, 'जो': 238, 'क्या': 239, 'रह': 240, 'दे': 241, 'क्योंकि': 242, 'अभी': 243, 'जलने': 244, 'वाले': 245, 'बेटा': 246, 'अब': 247, 'हमको': 248, 'छोटे': 249, 'लाना': 250, 'आंधी': 251, 'सामने': 252, 'बचकाने': 253, 'लिए': 254, 'पैसा': 255, 'नाम': 256, 'पे': 257, 'शैतान': 258, 'क्यों': 259, 'माँ': 260, 'manali': 261, 'kawali': 262, 'dikhti': 263, 'nai': 264, 'pachtayegi': 265, 'gaana': 266, 'shayad': 267, 'samjhegi': 268, 'marne': 269, 'maana': 270, 'tujhse': 271, 'zai': 272, 'tuze': 273, 'mog': 274, 'doosre': 275, 'kithe': 276, 'maka': 277, 'shant': 278, 'bar': 279, 'gyan': 280, 'amal': 281, 'vo': 282, 'gun': 283, 'beat': 284, 'chalne': 285, 'bass': 286, 'badhne': 287, 'kho': 288, 'ja': 289, 'geet': 290, 'sama': 291, 'ander': 292, 'dhun': 293, 'hata': 294, 'jigar': 295, 'phad': 296, 'dahar': 297, 'seene': 298, 'khel': 299, 'ayenge': 300, 'rokne': 301, 'per': 302, 'rukh': 303, 'baazigar': 304, 'ubhare': 305, 'in': 306, 'sachi': 307, 'dikhava': 308, 'akal': 309, 'istemal': 310, 'kal': 311, 'ager': 312, 'real': 313, 'kamyab': 314, 'toofani': 315, 'badh': 316, 'kesa': 317, 'haal': 318, 'bhag': 319, 'jahan': 320, 'lage': 321, 'mukaam': 322, 'dalde': 323, 'isme': 324, 'uthayega': 325, 'khatra': 326, 'hoga': 327, 'ehsaas': 328, 'tabhi': 329, 'banega': 330, 'sacha': 331, 'veer': 332, 'gaya': 333, 'dafnake': 334, 'launga': 335, 'himmat': 336, 'pata': 337, 'pasand': 338, 'jaye': 339, 'unse': 340, 'bina': 341, 'puche': 342, 'nachana': 343, 'chahthe': 344, 'rukne': 345, 'rooh': 346, 'samjhake': 347, 'jaga': 348, 'jor': 349, 'rasta': 350, 'hath': 351, 'pao': 352, 'khol': 353, 'lana': 354, 'sapno': 355, 'umer': 356, 'khas': 357, 'farne': 358, 'subah': 359, 'uthu': 360, 'panch': 361, 'baje': 362, 'uthau': 363, 'ache': 364, 'naap': 365, 'tol': 366, 'keh': 367, 'sake': 368, 'sache': 369, 'niklu': 370, 'bahar': 371, 'dyniya': 372, 'samjhu': 373, 'banau': 374, 'usko': 375, 'hissa': 376, 'aram': 377, 'arman': 378, 'samajke': 379, 'sabdho': 380, 'lau': 381, 'farman': 382, 'jamana': 383, 'roj': 384, 'dukh': 385, 'dard': 386, 'dur': 387, 'sikh': 388, 'dhyan': 389, 'du': 390, 'cheezo': 391, 'sapne': 392, 'la': 393, 'aya': 394, 'sehere': 395, 'fikar': 396, 'bolke': 397, 'dikhakar': 398, 'kat': 399, 'galliyon': 400, 'dusro': 401, 'mitana': 402, 'andhera': 403, 'chamkani': 404, 'kamyabi': 405, 'roz': 406, 'uthaunga': 407, 'kisi': 408, 'boj': 409, 'jaag': 410, 'gya': 411, 'karni': 412, 'khoj': 413, 'rehna': 414, 'khule': 415, 'niche': 416, 'chuhna': 417, 'aasmano': 418, 'chaiye': 419, 'jana': 420, 'piche': 421, 'khara': 422, 'pero': 423, 'itne': 424, 'paas': 425, 'haathon': 426, 'bolunga': 427, 'ijazat': 428, 'sabar': 429, 'bagawat': 430, 'zulfein': 431, 'zaalim': 432, 'aankhen': 433, 'aafat': 434, 'lagta': 435, 'hone': 436, 'qayamat': 437, 'tadpa': 438, 'aise': 439, 'insaafi': 440, 'ghalti': 441, 'uske': 442, 'maangta': 443, 'maafi': 444, 'sadkon': 445, 'chale': 446, 'ladkon': 447, 'dilon': 448, 'aag': 449, 'fire': 450, 'nakhre': 451, 'dekhe': 452, 'humein': 453, 'hanji': 454, 'fir': 455, 'dekho': 456, 'shanivaar': 457, 'party': 458, 'ji': 459, 'taiyyar': 460, 'sarojni': 461, 'kapde': 462, 'pehen': 463, 'madam': 464, 'disco': 465, 'vip': 466, 'complimentary': 467, 'shots': 468, 'music': 469, 'loud': 470, 'mehenge': 471, 'club': 472, 'hota': 473, 'dhang': 474, 'crowd': 475, 'ludhiyane': 476, 'aai': 477, 'ladki': 478, 'university': 479, 'padhti': 480, 'student': 481, 'but': 482, 'i': 483, 'doubt': 484, 'mundeya': 485, 'palle': 486, 'vi': 487, 'chadeya': 488, 'ni': 489, 'kakh': 490, 'jado': 491, 'sunday': 492, 'monday': 493, 'jhutte': 494, 'khanda': 495, 'lakk': 496, 'aati': 497, 'honda': 498, 'audi': 499, 'jati': 500, 'khisak': 501, 'chalegi': 502, 'pada': 503, 'bharegi': 504, 'daregi': 505, 'feeling': 506, 'ladegi': 507, 'badhegi': 508, 'nau': 509, 'acre': 510, 'chadhegi': 511, '1': 512, '2': 513, '3': 514, 'bonnet': 515, 'pari': 516, 'tikte': 517, 'kaidi': 518, 'likh': 519, 'niklein': 520, 'aan': 521, 'image': 522, 'kharaab': 523, 'galat': 524, 'news': 525, 'naam': 526, 'aata': 527, 'week': 528, 'guzroon': 529, 'bandi': 530, 'cheekh': 531, 'pakad': 532, \"sun'ne\": 533, 'humpe': 534, 'marr': 535, 'rehne': 536, 'bandh': 537, 'rakh': 538, 'aankhein': 539, 'kehne': 540, 'ruki': 541, 'banke': 542, 'behne': 543, 'cement': 544, 'nikla': 545, 'gulaab': 546, 'aitihasik': 547, 'kitaab': 548, 'hal': 549, 'jawaab': 550, 'khwaab': 551, 'wafadaar': 552, 'khabardaar': 553, 'hoshiyaar': 554, 'gully': 555, 'gang': 556, 'sabse': 557, 'parivar': 558, 'masle': 559, 'atke': 560, 'zimmedaar': 561, 'kha': 562, 'fatke': 563, 'tadipaar': 564, 'ginn': 565, 'chun': 566, 'baki': 567, 'saanpo': 568, 'kataar': 569, 'photo': 570, 'haar': 571, 'tab': 572, 'grind': 573, 'shine': 574, 'mind': 575, 'zabardasti': 576, 'chod': 577, 'beef': 578, 'ghosht': 579, 'khana': 580, 'famous': 581, 'zamana': 582, 'maachis': 583, 'jwala': 584, 'paltu': 585, 'gaano': 586, 'ne': 587, 'pala': 588, 'proper': 589, 'boys': 590, 'from': 591, 'the': 592, 'eastside': 593, 'hum': 594, 'andheri': 595, 'royal': 596, 'opera': 597, 'gaiety': 598, 'julius': 599, 'bagga': 600, 'jd': 601, 'college': 602, 'mc': 603, 'sher': 604, 'moen': 605, 'murad': 606, 'solid': 607, 'ration': 608, 'card': 609, 'foreign': 610, 'call': 611, 'aanewale': 612, 'teen': 613, 'ali': 614, 'baba': 615, 'chaalees': 616, 'koiley': 617, 'heera': 618, 'basera': 619, 'tedi': 620, 'suraj': 621, 'chand': 622, 'favour': 623, 'gedhiyan': 624, 'lagare': 625, 'tough': 626, 'naa': 627, 'great': 628, 'khali': 629, 'rappers': 630, 'shot': 631, 'sarpe': 632, 'desi': 633, 'pila': 634, 'chakne': 635, 'chicken': 636, 'kaerian': 637, 'khilathe': 638, 'pepsi': 639, 'bade': 640, 'thailiyon': 641, 'aathe': 642, 'saathvi': 643, 'punya': 644, 'paap': 645, 'tha': 646, 'chaar': 647, 'baad': 648, 'dekha': 649, 'mai': 650, 'jagah': 651, 'book': 652, 'bhagwat': 653, 'gita': 654, 'suroor': 655, 'maal': 656, 'peeta': 657, 'seesha': 658, 'bhool': 659, 'tune': 660, 'kisse': 661, 'seeekha': 662, 'divine': 663, 'bye': 664, 'opposite': 665, 'ghost': 666, 'karnar': 667, 'mh': 668, 'flow': 669, 'savra': 670, 'changla': 671, 'bro': 672, 'bangda': 673, 'fry': 674, 'coast': 675, 'boss': 676, 'code': 677, 'bachkaane': 678, 'raastein': 679, 'fatka': 680, 'kishore': 681, 'kiska': 682, 'load': 683, 'four': 684, 'crore': 685, 'influencer': 686, 'model': 687, 'kabhi': 688, 'bottle': 689, 'sar': 690, 'safeena': 691, 'jungle': 692, 'mowgli': 693, 'akhila': 694, 'khaas': 695, 'kamar': 696, 'shakira': 697, 'jaise': 698, 'naach': 699, 'palanng': 700, 'kabar': 701, 'khod': 702, 'pariwaar': 703, 'baaki': 704, 'check': 705, 'karle': 706, 'facts': 707, 'gaane': 708, 'laaya': 709, 'mei': 710, 'sabko': 711, 'mil': 712, 'bataya': 713, 'kaisa': 714, 'laya': 715, 'bana': 716, 'bohot': 717, 'zyaada': 718, 'farak': 719, 'chor': 720, 'chaati': 721, 'maaji': 722, 'proud': 723, 'acting': 724, 'अच्छा': 725, 'मंद': 726, 'से': 727, 'रहना': 728, 'मतलब': 729, 'मैं': 730, 'जैसा': 731, 'गाने': 732, 'drop': 733, 'फई': 734, 'ला': 735, 'views': 736, 'खरीदना': 737, 'अपना': 738, 'स्टाइल': 739, 'हैरान': 740, 'picture': 741, 'बाकी': 742, 'रुक': 743, 'जा': 744, 'सबको': 745, 'देना': 746, 'पार्टी': 747, 'लड़कियों': 748, 'पीछे': 749, 'पड़ा': 750, 'सूरज': 751, 'मेरा': 752, 'दोस्त': 753, 'रहा': 754, 'चांद': 755, 'मुझे': 756, 'देख': 757, 'कर': 758, 'बोले': 759, 'थे': 760, 'दिन': 761, 'रात': 762, 'हाथ': 763, 'मंज़िल': 764, 'time': 765, 'rhyme': 766, 'नंगा': 767, 'आया': 768, 'किसी': 769, 'की': 770, 'औकात': 771, 'मेहनत': 772, 'झोल': 773, 'समझ': 774, 'तेरा': 775, 'role': 776, 'शीशा': 777, 'झूठ': 778, 'पैसे': 779, 'वाला': 780, 'वोट': 781, 'पर': 782, 'पोल': 783, 'खोलता': 784, 'काग़ज़': 785, 'शराब': 786, 'उसका': 787, 'खून': 788, 'बहता': 789, 'फिर': 790, 'इतने': 791, 'फासले': 792, 'शीलावती': 793, 'पूछती': 794, 'इतना': 795, 'खांसते': 796, 'तोड़ा': 797, 'हँसना': 798, 'ज़रूरी': 799, 'बड़ा': 800, 'ने': 801, 'बोला': 802, 'था': 803, 'सबका': 804, 'खूनी': 805, 'है।': 806, 'एक': 807, 'दो': 808, 'तीन': 809, 'khass': 810, 'nasha': 811, 'ghaas': 812, 'madhuri': 813, 'pehne': 814, 'saree': 815, 'munh': 816, 'gaali': 817, 'mithi': 818, 'sa': 819, 'gehra': 820, 'samundar': 821, 'behta': 822, 'hua': 823, 'shayar': 824, 'mawali': 825, 'bichla': 826, 'jaali': 827, 'nurani': 828, 'ahaa': 829, 'ghoom': 830, 'gaur': 831, 'tuhi': 832, 'raasta': 833, 'road': 834, 'aashiq': 835, 'deewana': 836, 'kyun': 837, 'jale': 838, 'zamaana': 839, 'sunn': 840, 'pagli': 841, 'galti': 842, 'saheli': 843, 'jamti': 844, 'darkhwast': 845, 'dhamki': 846, 'jabse': 847, 'mili': 848, 'kasam': 849, 'kismat': 850, 'chamki': 851, 'sanki': 852, 'pyaar': 853, 'agli': 854, 'mangti': 855, 'doon': 856, 'maala': 857, 'banja': 858, 'vyjanthi': 859, 'jaave': 860, 'hila': 861, 'dunga': 862, 'dharti': 863, 'papa': 864, 'mama': 865, 'chacha': 866, 'ani': 867, 'goan': 868, 'ladka': 869, 'desh': 870, 'charcha': 871, 'safal': 872, 'church': 873, 'public': 874, 'tujhpe': 875, 'marta': 876, 'bolun': 877, 'darta': 878}\n"
          ]
        }
      ]
    },
    {
      "cell_type": "code",
      "source": [
        "input_sequences = []\n",
        "\n",
        "for line in corpus:\n",
        "  token_list = tokenizer.texts_to_sequences([line])[0]\n",
        "\n",
        "  for i in range(1, len(token_list)):\n",
        "    input_sequences.append(token_list[:i+1])\n",
        "\n",
        "max_sequence_len = max([len(x) for x in input_sequences])\n",
        "\n",
        "input_sequences = pad_sequences(input_sequences, maxlen= max_sequence_len, padding = 'pre')\n",
        "\n",
        "print(input_sequences)\n"
      ],
      "metadata": {
        "colab": {
          "base_uri": "https://localhost:8080/"
        },
        "id": "FjZ8G6rRzuOd",
        "outputId": "14151731-6339-493e-8cc3-34b4061a398d"
      },
      "execution_count": 60,
      "outputs": [
        {
          "output_type": "stream",
          "name": "stdout",
          "text": [
            "[[  0   0   0 ...   0  12  26]\n",
            " [  0   0   0 ...  12  26 155]\n",
            " [  0   0   0 ...  26 155   6]\n",
            " ...\n",
            " [  0   0   0 ...  50  66   1]\n",
            " [  0   0   0 ...  66   1  67]\n",
            " [  0   0   0 ...   1  67   4]]\n"
          ]
        }
      ]
    },
    {
      "cell_type": "code",
      "source": [
        "input_sequences.shape"
      ],
      "metadata": {
        "colab": {
          "base_uri": "https://localhost:8080/"
        },
        "id": "x_ik-YK_3mHi",
        "outputId": "69754bb1-7534-4254-b250-00ff99129316"
      },
      "execution_count": 61,
      "outputs": [
        {
          "output_type": "execute_result",
          "data": {
            "text/plain": [
              "(1660, 12)"
            ]
          },
          "metadata": {},
          "execution_count": 61
        }
      ]
    },
    {
      "cell_type": "code",
      "source": [
        "xs = input_sequences[:, :-1]\n",
        "labels = input_sequences[:,-1]"
      ],
      "metadata": {
        "id": "KsM2bLa434qH"
      },
      "execution_count": 62,
      "outputs": []
    },
    {
      "cell_type": "code",
      "source": [
        "xs.shape, labels.shape"
      ],
      "metadata": {
        "colab": {
          "base_uri": "https://localhost:8080/"
        },
        "id": "D0ZbUzIR4Fm2",
        "outputId": "18e68146-b71b-4b28-d4c8-7d2f6aa2faee"
      },
      "execution_count": 63,
      "outputs": [
        {
          "output_type": "execute_result",
          "data": {
            "text/plain": [
              "((1660, 11), (1660,))"
            ]
          },
          "metadata": {},
          "execution_count": 63
        }
      ]
    },
    {
      "cell_type": "code",
      "source": [
        "ys = tf.keras.utils.to_categorical(labels, num_classes = total_words)"
      ],
      "metadata": {
        "id": "avmlA3xO4Lrc"
      },
      "execution_count": 64,
      "outputs": []
    },
    {
      "cell_type": "code",
      "source": [
        "model = tf.keras.Sequential([\n",
        "        tf.keras.layers.Embedding(total_words, 100, input_length=max_sequence_len - 1),   # max_sequence_len - 1 (number of columns in xs/training_data shape)                  \n",
        "        tf.keras.layers.Bidirectional(tf.keras.layers.LSTM(150)),\n",
        "        tf.keras.layers.Dense(total_words, activation = 'softmax')\n",
        "])\n",
        "\n",
        "model.compile(loss = 'categorical_crossentropy',\n",
        "              optimizer = 'adam',\n",
        "              metrics = ['accuracy'])"
      ],
      "metadata": {
        "id": "FhqtNf2l4du2"
      },
      "execution_count": 65,
      "outputs": []
    },
    {
      "cell_type": "code",
      "source": [
        "history =  model.fit(xs, ys, epochs = 100)"
      ],
      "metadata": {
        "id": "U0V2oPv1STzI",
        "colab": {
          "base_uri": "https://localhost:8080/"
        },
        "outputId": "88db337d-f1a5-422a-8f3c-4ed1d25caccf"
      },
      "execution_count": 66,
      "outputs": [
        {
          "output_type": "stream",
          "name": "stdout",
          "text": [
            "Epoch 1/100\n",
            "52/52 [==============================] - 3s 9ms/step - loss: 6.6125 - accuracy: 0.0193\n",
            "Epoch 2/100\n",
            "52/52 [==============================] - 0s 9ms/step - loss: 6.1257 - accuracy: 0.0235\n",
            "Epoch 3/100\n",
            "52/52 [==============================] - 0s 8ms/step - loss: 5.9074 - accuracy: 0.0289\n",
            "Epoch 4/100\n",
            "52/52 [==============================] - 0s 9ms/step - loss: 5.6925 - accuracy: 0.0398\n",
            "Epoch 5/100\n",
            "52/52 [==============================] - 0s 8ms/step - loss: 5.4530 - accuracy: 0.0512\n",
            "Epoch 6/100\n",
            "52/52 [==============================] - 0s 8ms/step - loss: 5.2105 - accuracy: 0.0681\n",
            "Epoch 7/100\n",
            "52/52 [==============================] - 0s 8ms/step - loss: 4.9427 - accuracy: 0.0880\n",
            "Epoch 8/100\n",
            "52/52 [==============================] - 0s 8ms/step - loss: 4.7162 - accuracy: 0.1169\n",
            "Epoch 9/100\n",
            "52/52 [==============================] - 0s 8ms/step - loss: 4.4584 - accuracy: 0.1404\n",
            "Epoch 10/100\n",
            "52/52 [==============================] - 0s 9ms/step - loss: 4.2266 - accuracy: 0.1765\n",
            "Epoch 11/100\n",
            "52/52 [==============================] - 0s 9ms/step - loss: 3.9942 - accuracy: 0.1964\n",
            "Epoch 12/100\n",
            "52/52 [==============================] - 0s 8ms/step - loss: 3.7188 - accuracy: 0.2319\n",
            "Epoch 13/100\n",
            "52/52 [==============================] - 0s 8ms/step - loss: 3.4697 - accuracy: 0.2633\n",
            "Epoch 14/100\n",
            "52/52 [==============================] - 0s 8ms/step - loss: 3.2535 - accuracy: 0.2886\n",
            "Epoch 15/100\n",
            "52/52 [==============================] - 0s 8ms/step - loss: 3.0554 - accuracy: 0.3133\n",
            "Epoch 16/100\n",
            "52/52 [==============================] - 0s 8ms/step - loss: 2.8293 - accuracy: 0.3572\n",
            "Epoch 17/100\n",
            "52/52 [==============================] - 0s 8ms/step - loss: 2.6278 - accuracy: 0.3934\n",
            "Epoch 18/100\n",
            "52/52 [==============================] - 0s 8ms/step - loss: 2.4537 - accuracy: 0.4361\n",
            "Epoch 19/100\n",
            "52/52 [==============================] - 0s 9ms/step - loss: 2.3072 - accuracy: 0.4639\n",
            "Epoch 20/100\n",
            "52/52 [==============================] - 0s 8ms/step - loss: 2.1417 - accuracy: 0.4976\n",
            "Epoch 21/100\n",
            "52/52 [==============================] - 0s 8ms/step - loss: 1.9830 - accuracy: 0.5470\n",
            "Epoch 22/100\n",
            "52/52 [==============================] - 0s 8ms/step - loss: 1.8552 - accuracy: 0.5801\n",
            "Epoch 23/100\n",
            "52/52 [==============================] - 0s 9ms/step - loss: 1.7102 - accuracy: 0.6205\n",
            "Epoch 24/100\n",
            "52/52 [==============================] - 0s 8ms/step - loss: 1.5553 - accuracy: 0.6614\n",
            "Epoch 25/100\n",
            "52/52 [==============================] - 0s 8ms/step - loss: 1.4193 - accuracy: 0.7000\n",
            "Epoch 26/100\n",
            "52/52 [==============================] - 0s 8ms/step - loss: 1.3420 - accuracy: 0.7181\n",
            "Epoch 27/100\n",
            "52/52 [==============================] - 0s 8ms/step - loss: 1.2710 - accuracy: 0.7271\n",
            "Epoch 28/100\n",
            "52/52 [==============================] - 0s 8ms/step - loss: 1.1611 - accuracy: 0.7584\n",
            "Epoch 29/100\n",
            "52/52 [==============================] - 0s 8ms/step - loss: 1.0859 - accuracy: 0.7789\n",
            "Epoch 30/100\n",
            "52/52 [==============================] - 0s 8ms/step - loss: 0.9915 - accuracy: 0.8042\n",
            "Epoch 31/100\n",
            "52/52 [==============================] - 0s 8ms/step - loss: 0.9243 - accuracy: 0.8084\n",
            "Epoch 32/100\n",
            "52/52 [==============================] - 0s 8ms/step - loss: 0.8509 - accuracy: 0.8313\n",
            "Epoch 33/100\n",
            "52/52 [==============================] - 0s 8ms/step - loss: 0.8036 - accuracy: 0.8404\n",
            "Epoch 34/100\n",
            "52/52 [==============================] - 0s 8ms/step - loss: 0.7431 - accuracy: 0.8560\n",
            "Epoch 35/100\n",
            "52/52 [==============================] - 0s 8ms/step - loss: 0.6780 - accuracy: 0.8639\n",
            "Epoch 36/100\n",
            "52/52 [==============================] - 0s 9ms/step - loss: 0.6474 - accuracy: 0.8717\n",
            "Epoch 37/100\n",
            "52/52 [==============================] - 0s 8ms/step - loss: 0.6019 - accuracy: 0.8819\n",
            "Epoch 38/100\n",
            "52/52 [==============================] - 0s 8ms/step - loss: 0.5614 - accuracy: 0.8892\n",
            "Epoch 39/100\n",
            "52/52 [==============================] - 0s 9ms/step - loss: 0.5154 - accuracy: 0.8976\n",
            "Epoch 40/100\n",
            "52/52 [==============================] - 0s 9ms/step - loss: 0.4862 - accuracy: 0.8964\n",
            "Epoch 41/100\n",
            "52/52 [==============================] - 0s 9ms/step - loss: 0.4530 - accuracy: 0.9066\n",
            "Epoch 42/100\n",
            "52/52 [==============================] - 0s 9ms/step - loss: 0.4211 - accuracy: 0.9012\n",
            "Epoch 43/100\n",
            "52/52 [==============================] - 0s 9ms/step - loss: 0.4023 - accuracy: 0.9139\n",
            "Epoch 44/100\n",
            "52/52 [==============================] - 0s 9ms/step - loss: 0.4058 - accuracy: 0.9048\n",
            "Epoch 45/100\n",
            "52/52 [==============================] - 0s 8ms/step - loss: 0.3879 - accuracy: 0.9133\n",
            "Epoch 46/100\n",
            "52/52 [==============================] - 0s 9ms/step - loss: 0.3667 - accuracy: 0.9114\n",
            "Epoch 47/100\n",
            "52/52 [==============================] - 0s 8ms/step - loss: 0.3453 - accuracy: 0.9181\n",
            "Epoch 48/100\n",
            "52/52 [==============================] - 0s 9ms/step - loss: 0.3315 - accuracy: 0.9211\n",
            "Epoch 49/100\n",
            "52/52 [==============================] - 0s 9ms/step - loss: 0.3292 - accuracy: 0.9199\n",
            "Epoch 50/100\n",
            "52/52 [==============================] - 0s 9ms/step - loss: 0.3046 - accuracy: 0.9217\n",
            "Epoch 51/100\n",
            "52/52 [==============================] - 0s 8ms/step - loss: 0.2834 - accuracy: 0.9223\n",
            "Epoch 52/100\n",
            "52/52 [==============================] - 0s 8ms/step - loss: 0.2667 - accuracy: 0.9283\n",
            "Epoch 53/100\n",
            "52/52 [==============================] - 0s 8ms/step - loss: 0.2532 - accuracy: 0.9241\n",
            "Epoch 54/100\n",
            "52/52 [==============================] - 0s 8ms/step - loss: 0.2425 - accuracy: 0.9247\n",
            "Epoch 55/100\n",
            "52/52 [==============================] - 0s 8ms/step - loss: 0.2375 - accuracy: 0.9253\n",
            "Epoch 56/100\n",
            "52/52 [==============================] - 0s 8ms/step - loss: 0.2312 - accuracy: 0.9253\n",
            "Epoch 57/100\n",
            "52/52 [==============================] - 0s 9ms/step - loss: 0.2333 - accuracy: 0.9247\n",
            "Epoch 58/100\n",
            "52/52 [==============================] - 0s 8ms/step - loss: 0.2211 - accuracy: 0.9313\n",
            "Epoch 59/100\n",
            "52/52 [==============================] - 0s 8ms/step - loss: 0.2234 - accuracy: 0.9235\n",
            "Epoch 60/100\n",
            "52/52 [==============================] - 0s 8ms/step - loss: 0.2211 - accuracy: 0.9259\n",
            "Epoch 61/100\n",
            "52/52 [==============================] - 0s 8ms/step - loss: 0.2131 - accuracy: 0.9319\n",
            "Epoch 62/100\n",
            "52/52 [==============================] - 0s 8ms/step - loss: 0.2110 - accuracy: 0.9259\n",
            "Epoch 63/100\n",
            "52/52 [==============================] - 0s 8ms/step - loss: 0.2084 - accuracy: 0.9235\n",
            "Epoch 64/100\n",
            "52/52 [==============================] - 0s 8ms/step - loss: 0.2019 - accuracy: 0.9265\n",
            "Epoch 65/100\n",
            "52/52 [==============================] - 0s 8ms/step - loss: 0.2037 - accuracy: 0.9301\n",
            "Epoch 66/100\n",
            "52/52 [==============================] - 0s 9ms/step - loss: 0.2107 - accuracy: 0.9253\n",
            "Epoch 67/100\n",
            "52/52 [==============================] - 0s 9ms/step - loss: 0.2313 - accuracy: 0.9241\n",
            "Epoch 68/100\n",
            "52/52 [==============================] - 0s 9ms/step - loss: 0.2308 - accuracy: 0.9211\n",
            "Epoch 69/100\n",
            "52/52 [==============================] - 0s 8ms/step - loss: 0.2275 - accuracy: 0.9223\n",
            "Epoch 70/100\n",
            "52/52 [==============================] - 0s 8ms/step - loss: 0.2704 - accuracy: 0.9133\n",
            "Epoch 71/100\n",
            "52/52 [==============================] - 0s 9ms/step - loss: 0.2488 - accuracy: 0.9108\n",
            "Epoch 72/100\n",
            "52/52 [==============================] - 0s 8ms/step - loss: 0.2471 - accuracy: 0.9193\n",
            "Epoch 73/100\n",
            "52/52 [==============================] - 0s 9ms/step - loss: 0.2847 - accuracy: 0.9042\n",
            "Epoch 74/100\n",
            "52/52 [==============================] - 0s 8ms/step - loss: 0.2560 - accuracy: 0.9139\n",
            "Epoch 75/100\n",
            "52/52 [==============================] - 0s 8ms/step - loss: 0.2155 - accuracy: 0.9193\n",
            "Epoch 76/100\n",
            "52/52 [==============================] - 0s 9ms/step - loss: 0.1899 - accuracy: 0.9271\n",
            "Epoch 77/100\n",
            "52/52 [==============================] - 0s 8ms/step - loss: 0.1797 - accuracy: 0.9259\n",
            "Epoch 78/100\n",
            "52/52 [==============================] - 0s 9ms/step - loss: 0.1772 - accuracy: 0.9265\n",
            "Epoch 79/100\n",
            "52/52 [==============================] - 0s 8ms/step - loss: 0.1735 - accuracy: 0.9289\n",
            "Epoch 80/100\n",
            "52/52 [==============================] - 0s 8ms/step - loss: 0.1703 - accuracy: 0.9277\n",
            "Epoch 81/100\n",
            "52/52 [==============================] - 0s 8ms/step - loss: 0.1688 - accuracy: 0.9265\n",
            "Epoch 82/100\n",
            "52/52 [==============================] - 0s 8ms/step - loss: 0.1659 - accuracy: 0.9307\n",
            "Epoch 83/100\n",
            "52/52 [==============================] - 0s 8ms/step - loss: 0.1661 - accuracy: 0.9247\n",
            "Epoch 84/100\n",
            "52/52 [==============================] - 0s 8ms/step - loss: 0.1671 - accuracy: 0.9259\n",
            "Epoch 85/100\n",
            "52/52 [==============================] - 0s 9ms/step - loss: 0.1642 - accuracy: 0.9277\n",
            "Epoch 86/100\n",
            "52/52 [==============================] - 0s 9ms/step - loss: 0.1629 - accuracy: 0.9241\n",
            "Epoch 87/100\n",
            "52/52 [==============================] - 0s 9ms/step - loss: 0.1578 - accuracy: 0.9271\n",
            "Epoch 88/100\n",
            "52/52 [==============================] - 0s 8ms/step - loss: 0.1589 - accuracy: 0.9253\n",
            "Epoch 89/100\n",
            "52/52 [==============================] - 0s 9ms/step - loss: 0.1600 - accuracy: 0.9271\n",
            "Epoch 90/100\n",
            "52/52 [==============================] - 0s 8ms/step - loss: 0.1626 - accuracy: 0.9253\n",
            "Epoch 91/100\n",
            "52/52 [==============================] - 0s 8ms/step - loss: 0.1640 - accuracy: 0.9205\n",
            "Epoch 92/100\n",
            "52/52 [==============================] - 0s 9ms/step - loss: 0.1637 - accuracy: 0.9259\n",
            "Epoch 93/100\n",
            "52/52 [==============================] - 0s 8ms/step - loss: 0.1701 - accuracy: 0.9247\n",
            "Epoch 94/100\n",
            "52/52 [==============================] - 0s 9ms/step - loss: 0.1654 - accuracy: 0.9265\n",
            "Epoch 95/100\n",
            "52/52 [==============================] - 0s 9ms/step - loss: 0.1605 - accuracy: 0.9289\n",
            "Epoch 96/100\n",
            "52/52 [==============================] - 0s 9ms/step - loss: 0.1608 - accuracy: 0.9277\n",
            "Epoch 97/100\n",
            "52/52 [==============================] - 0s 8ms/step - loss: 0.1641 - accuracy: 0.9223\n",
            "Epoch 98/100\n",
            "52/52 [==============================] - 0s 8ms/step - loss: 0.1799 - accuracy: 0.9265\n",
            "Epoch 99/100\n",
            "52/52 [==============================] - 0s 8ms/step - loss: 0.1839 - accuracy: 0.9235\n",
            "Epoch 100/100\n",
            "52/52 [==============================] - 0s 8ms/step - loss: 0.2063 - accuracy: 0.9199\n"
          ]
        }
      ]
    },
    {
      "cell_type": "code",
      "source": [
        "import matplotlib.pyplot as plt\n",
        "\n",
        "# Plot utility\n",
        "def plot_graphs(history, string):\n",
        "  plt.plot(history.history[string])\n",
        "  plt.xlabel(\"Epochs\")\n",
        "  plt.ylabel(string)\n",
        "  plt.show()\n",
        "\n",
        "# Visualize the accuracy\n",
        "plot_graphs(history, 'accuracy')"
      ],
      "metadata": {
        "colab": {
          "base_uri": "https://localhost:8080/",
          "height": 300
        },
        "id": "H0N6dxLEXkVf",
        "outputId": "9611d75b-0b6b-4929-ae0c-6c5890a0de66"
      },
      "execution_count": 67,
      "outputs": [
        {
          "output_type": "display_data",
          "data": {
            "text/plain": [
              "<Figure size 432x288 with 1 Axes>"
            ],
            "image/png": "[encoded data removed]"
          },
          "metadata": {
            "needs_background": "light"
          }
        }
      ]
    },
    {
      "cell_type": "code",
      "source": [
        "import numpy as np\n",
        "\n",
        "\n",
        "# Define seed text\n",
        "seed_text = \"me nikla tha akela lekin mil gya mela\"\n",
        "\n",
        "# Define total words to predict\n",
        "next_words = 50\n",
        "\n",
        "# Loop until desired length is reached\n",
        "for _ in range(next_words):\n",
        "\n",
        "\t# Convert the seed text to a token sequence\n",
        "  token_list = tokenizer.texts_to_sequences([seed_text])[0]\n",
        "\n",
        "\t# Pad the sequence\n",
        "  token_list = pad_sequences([token_list], maxlen=max_sequence_len-1, padding='pre')\n",
        "\t\n",
        "\t# Feed to the model and get the probabilities for each index\n",
        "  probabilities = model.predict(token_list)\n",
        "\n",
        "  # Pick a random number from [1,2,3]\n",
        "  choice = np.random.choice([1,2,3])\n",
        "\t\n",
        "  # Sort the probabilities in ascending order \n",
        "  # and get the random choice from the end of the array\n",
        "  predicted = np.argsort(probabilities)[0][-choice]\n",
        "\n",
        "\t# Ignore if index is 0 because that is just the padding.\n",
        "  if predicted != 0:\n",
        "\t\t\n",
        "\t\t# Look up the word associated with the index. \n",
        "\t  output_word = tokenizer.index_word[predicted]\n",
        "\n",
        "\t\t# Combine with the seed text\n",
        "\t  seed_text += \" \" + output_word\n",
        "\n",
        "# Print the result\t\n",
        "print(seed_text)"
      ],
      "metadata": {
        "colab": {
          "base_uri": "https://localhost:8080/"
        },
        "id": "q6tzc_VgXsvn",
        "outputId": "d044924b-3d89-48f7-eaf6-2fbaa64d91e2"
      },
      "execution_count": 69,
      "outputs": [
        {
          "output_type": "stream",
          "name": "stdout",
          "text": [
            "me nikla tha akela lekin mil gya mela apne seene se logo liye meri aai खूनी veer veer kar gita bade din bas khass jaaye ladka chun gayi aage bhi samjhegi ko jo jaaye college he dekh maa se nibhata है gayi samjhegi me chun मेरे karne gayi taiyyar gayi aage masle gayi मेरे ही है sabdho rap\n"
          ]
        }
      ]
    },
    {
      "cell_type": "code",
      "source": [
        ""
      ],
      "metadata": {
        "id": "1xNApQjoYdnW"
      },
      "execution_count": null,
      "outputs": []
    }
  ]
}